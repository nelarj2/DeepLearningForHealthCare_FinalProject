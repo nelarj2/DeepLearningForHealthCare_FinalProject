{
 "cells": [
  {
   "cell_type": "markdown",
   "id": "e466e73c",
   "metadata": {},
   "source": [
    "# Citation to Original Paper\n",
    "Xiong Liu, Yu Chen, Jay Bae, Hu Li, Joseph Johnston, and Todd Sanger. 2019. Predicting heart failure read-mission from clinical notes using deep learning."
   ]
  },
  {
   "cell_type": "markdown",
   "id": "3e30accf",
   "metadata": {},
   "source": [
    "# Reproducibility summary\n",
    "\"Predicting Heart Failure Readmission from Clinical Notes Using Deep Learning\" The authors aim to prove that deep learning models are more accurate at the readmission prediction task as compared to other machine learning models. Specifically, the authors hypothesize that a CNN model will perform better than a regular machine learning model based on random forest [1]. We will test these same two models to compare performance.\n",
    "\n",
    "We found the the CNN model that uses the Word2vec embeddings pre-trained on PubMed and PubMed centeral text does outperfom the RNN TF-IDF modal. With the CNN having an accuracy of 67% and an f1-score of .47, and the RF model having an accuracy of 61% and and f1-score of .47 for the 30-day readmission prediction.\n"
   ]
  },
  {
   "cell_type": "markdown",
   "id": "HEoGyGVOktRG",
   "metadata": {
    "id": "HEoGyGVOktRG"
   },
   "source": [
    "# SETUP"
   ]
  },
  {
   "cell_type": "markdown",
   "id": "8242a398",
   "metadata": {},
   "source": [
    "Dependencies:"
   ]
  },
  {
   "cell_type": "code",
   "execution_count": null,
   "id": "39527c3f",
   "metadata": {},
   "outputs": [],
   "source": [
    "# pip install tensorflow==2.12.*\n",
    "# pip install keras\n",
    "# pip install nltk\n",
    "# pip install -U scikit-learn\n",
    "# pip install pandas\n",
    "# pip install numpy\n",
    "# pip install -U scikit-learn"
   ]
  },
  {
   "cell_type": "code",
   "execution_count": 1,
   "id": "75196827",
   "metadata": {
    "colab": {
     "base_uri": "https://localhost:8080/"
    },
    "id": "75196827",
    "outputId": "1f613d16-2a74-4ad0-9810-b9fcdd822ca7"
   },
   "outputs": [
    {
     "name": "stderr",
     "output_type": "stream",
     "text": [
      "[nltk_data] Downloading package stopwords to /root/nltk_data...\n",
      "[nltk_data]   Unzipping corpora/stopwords.zip.\n",
      "[nltk_data] Downloading package punkt to /root/nltk_data...\n",
      "[nltk_data]   Unzipping tokenizers/punkt.zip.\n",
      "[nltk_data] Downloading package averaged_perceptron_tagger to\n",
      "[nltk_data]     /root/nltk_data...\n",
      "[nltk_data]   Unzipping taggers/averaged_perceptron_tagger.zip.\n",
      "[nltk_data] Downloading package wordnet to /root/nltk_data...\n"
     ]
    },
    {
     "data": {
      "text/plain": [
       "True"
      ]
     },
     "execution_count": 1,
     "metadata": {},
     "output_type": "execute_result"
    }
   ],
   "source": [
    "import numpy as np\n",
    "import pandas as pd\n",
    "from gensim.models.word2vec import Word2Vec\n",
    "from sklearn.model_selection import train_test_split\n",
    "from keras.utils import to_categorical\n",
    "from keras.layers import Dense, Dropout, Conv1D, MaxPool1D, GlobalMaxPool1D, Embedding, Activation\n",
    "from keras.preprocessing.text import Tokenizer\n",
    "from keras.utils import pad_sequences\n",
    "from keras.models import Sequential\n",
    "import re\n",
    "import nltk\n",
    "from nltk.corpus import stopwords\n",
    "from nltk.stem.snowball import PorterStemmer\n",
    "from sklearn import preprocessing\n",
    "from time import time\n",
    "from sklearn.metrics import classification_report\n",
    "from tensorflow.keras.layers import Embedding\n",
    "from tensorflow.keras import layers\n",
    "\n",
    "import nltk\n",
    "nltk.download('stopwords')\n",
    "nltk.download('punkt')\n",
    "nltk.download('averaged_perceptron_tagger')\n",
    "nltk.download('wordnet')"
   ]
  },
  {
   "cell_type": "markdown",
   "id": "786b8f95",
   "metadata": {},
   "source": [
    "# Data Download Instructions:\n",
    "\n",
    "MIMIC-III Clinical Database [3]\n",
    "\n",
    "Link to dataset: https://physionet.org/content/mimiciii/1.4/\n",
    "\n",
    "1.   Using the link to the dataset, create a physinet account.\n",
    "2.   Navigate to he bottom webapge of the link to the \"Files\" section\n",
    "3.   Complete the listed required training: \"CITI Data or Specimens Only Research\"\n",
    "4.  Submit your training to physinet\n",
    "5.  You'll recive an email that your application is approved, you can login in to phsionet and access the data.\n",
    "\n",
    "# Download word2Vec and glove Embeddigns\n",
    "Word2Vec PubMed-and-PMC-w2v.bin 3.08GB http://bio.nlplab.org/\n",
    "Glove Common Crawl (42B tokens, 1.9M vocab, uncased, 300d vectors, 1.75 GB) https://github.com/stanfordnlp/GloVe\n",
    "\n"
   ]
  },
  {
   "cell_type": "markdown",
   "id": "61499562",
   "metadata": {},
   "source": [
    "Paths to files and models"
   ]
  },
  {
   "cell_type": "code",
   "execution_count": 2,
   "id": "hU5G9AoOUUKT",
   "metadata": {
    "id": "hU5G9AoOUUKT"
   },
   "outputs": [],
   "source": [
    "notes_path = '/content/drive/MyDrive/DL_Final_Project/NOTEEVENTS.csv'\n",
    "admissions_path = '/content/drive/MyDrive/DL_Final_Project/ADMISSIONS.csv'\n",
    "icd_codes_path = '/content/drive/MyDrive/DL_Final_Project/DIAGNOSES_ICD.csv'\n",
    "\n",
    "#Word2Vec model used to generate embeddigns for CNN\n",
    "biowordvecpath = '/content/drive/MyDrive/DL_Final_Project/PubMed-and-PMC-w2v.bin'\n",
    "\n",
    "#glove model\n",
    "glovepath = '/content/drive/MyDrive/DL_Final_Project/glove.42B.300d.txt'"
   ]
  },
  {
   "cell_type": "code",
   "execution_count": 3,
   "id": "S_Fdpk0wBcIe",
   "metadata": {
    "id": "S_Fdpk0wBcIe"
   },
   "outputs": [],
   "source": [
    "# remove any HTML tags, non-word characters, numbers; convert all text to lowercase; remove stopwords\n",
    "def preprocessor(text):\n",
    "    text = re.sub('<[^>]*>', '', text)\n",
    "    text = re.sub('[\\W]+', ' ', text.lower()) \n",
    "    text = re.sub(\" \\d+\", \" \", text)\n",
    "    \n",
    "    #remove stop words\n",
    "    tokens = [token for token in word_tokenize(text) if token not in punctuation and token not in stop_words]\n",
    "    return ' '.join(tokens)\n",
    "\n",
    "def create_train_and_val_sets(df_train, df_test):\n",
    "  # x-train and y-train\n",
    "    train_samples = df_train['text2'].tolist()\n",
    "    train_labels = df_train['OUTPUT_LABEL'].tolist()\n",
    "\n",
    "  # x-test and y-test\n",
    "    val_samples = df_test['text2'].tolist()\n",
    "    val_labels = df_test['OUTPUT_LABEL'].tolist()\n",
    "\n",
    "    # get vocab list & assign an index to each vocab word in x-train\n",
    "    vectorizer = TextVectorization(max_tokens=20000, output_sequence_length=200)\n",
    "    text_ds = tf.data.Dataset.from_tensor_slices(train_samples).batch(128)\n",
    "    vectorizer.adapt(text_ds)\n",
    "    voc = vectorizer.get_vocabulary()\n",
    "    word_index = dict(zip(voc, range(len(voc))))\n",
    "\n",
    "    # finally vectorize x-train, x-test, y-train, y-test according to the above vectorizer\n",
    "    x_train = vectorizer(np.array([[s] for s in train_samples])).numpy()\n",
    "    x_val = vectorizer(np.array([[s] for s in val_samples])).numpy()\n",
    "\n",
    "    y_train = np.array(train_labels)\n",
    "    y_val = np.array(val_labels)\n",
    "\n",
    "    return x_train, y_train, x_val, y_val, voc, word_index\n",
    "\n",
    "def evaluate_model(model, x_test, y_test):\n",
    "    Y_pred = np.argmax(model.predict(x_test),axis=1)\n",
    "    y_true = y_test\n",
    "\n",
    "    cnn_report1=classification_report(y_true,Y_pred,output_dict=True)\n",
    "    df_cnn1=pd.DataFrame(cnn_report1).transpose()\n",
    "    return df_cnn1\n",
    "\n",
    "def subsample(df_train):\n",
    "    pos_rows = df_train.OUTPUT_LABEL == 1\n",
    "    df_train_pos = df_train.loc[pos_rows]\n",
    "    df_train_neg = df_train.loc[~pos_rows]\n",
    "\n",
    "    # # Merge the balanced data\n",
    "    df_train_balanced = pd.concat([df_train_pos, df_train_neg.sample(n = len(df_train_pos), random_state=42)], axis = 0)\n",
    "\n",
    "    # Shuffle the order of training samples\n",
    "    df_train_balanced = df_train_balanced.sample(n = len(df_train_balanced), random_state = 42).reset_index(drop=True)\n",
    "\n",
    "    return df_train_balanced\n",
    "\n",
    "def modify_sentence(sentence, p=0.5):\n",
    "    for i in range(len(sentence)):\n",
    "        if np.random.random() > p:\n",
    "            try:\n",
    "                syns = reloaded_word_vectors.most_similar([sentence[i]])\n",
    "                syns = [x for (x, y) in syns]\n",
    "                sentence[i] = np.random.choice(syns)\n",
    "            except KeyError:\n",
    "                pass\n",
    "            \n",
    "    return sentence"
   ]
  },
  {
   "cell_type": "markdown",
   "id": "ExuGS8wCjaO8",
   "metadata": {
    "id": "ExuGS8wCjaO8"
   },
   "source": [
    "# Loading MIMIC-III Raw Data & Creating Dataset"
   ]
  },
  {
   "cell_type": "code",
   "execution_count": 4,
   "id": "fbbe4725",
   "metadata": {
    "colab": {
     "base_uri": "https://localhost:8080/"
    },
    "id": "fbbe4725",
    "outputId": "e3d95f5c-5cb6-4e1e-9f91-cba07c08ad72"
   },
   "outputs": [
    {
     "name": "stdout",
     "output_type": "stream",
     "text": [
      "Mounted at /content/drive\n"
     ]
    }
   ],
   "source": [
    "from google.colab import drive\n",
    "drive.mount('/content/drive')"
   ]
  },
  {
   "cell_type": "code",
   "execution_count": 6,
   "id": "b3383b05",
   "metadata": {
    "id": "b3383b05"
   },
   "outputs": [],
   "source": [
    "import pandas as pd\n",
    "\n",
    "df_add = pd.read_csv(admissions_path) # 58976 rows of data\n",
    "df_notes = pd.read_csv(notes_path, dtype='unicode') # 2083180 rows of data\n",
    "df_codes = pd.read_csv(icd_codes_path) # 651047 rows of data"
   ]
  },
  {
   "cell_type": "markdown",
   "id": "HujP7d0CjsBQ",
   "metadata": {
    "id": "HujP7d0CjsBQ"
   },
   "source": [
    "Diagnosis dataframe"
   ]
  },
  {
   "cell_type": "code",
   "execution_count": 7,
   "id": "FN5bKbyOEpwK",
   "metadata": {
    "id": "FN5bKbyOEpwK"
   },
   "outputs": [],
   "source": [
    "# including only rows of data with heart failure ICD-9 codes\n",
    "hf_codes = ['39891', '40201', '40211', '40291', '40401', '40403', '40411', '40413', '40491', '40493', '4280', '4281', '42820','42821', '42822', '42823', '42830', '42831', '42832', '42833', '42840', '42841', '42842', '42843','4289']\n",
    "df_codes = df_codes.loc[df_codes.ICD9_CODE.isin(hf_codes)] # 651047 -> 21274 rows of data\n",
    "\n",
    "# list of subject_ids asociated with hf_codes\n",
    "hf_pid_list = df_codes[\"SUBJECT_ID\"].tolist() "
   ]
  },
  {
   "cell_type": "markdown",
   "id": "3xR_awowjyh1",
   "metadata": {
    "id": "3xR_awowjyh1"
   },
   "source": [
    "Admissions dataframe"
   ]
  },
  {
   "cell_type": "code",
   "execution_count": 12,
   "id": "VDQj6RvxFEiX",
   "metadata": {
    "id": "VDQj6RvxFEiX"
   },
   "outputs": [],
   "source": [
    "# change to standard datetime format\n",
    "df_add.ADMITTIME = pd.to_datetime(df_add.ADMITTIME)\n",
    "df_add.DISCHTIME = pd.to_datetime(df_add.DISCHTIME)\n",
    "\n",
    "# remove elective admissions- we only want urgent and emergency\n",
    "df_adm = df_add.loc[df_add.ADMISSION_TYPE != 'ELECTIVE']\n",
    "\n",
    "# sort by subject id and admittime\n",
    "df_adm = df_add.sort_values(['SUBJECT_ID','ADMITTIME'])\n",
    "df_adm = df_adm.reset_index(drop = True)\n",
    "\n",
    "# add a column for next admit_time (readmissions) and readmission id\n",
    "df_adm['NEXT_ADMITTIME'] = df_adm.groupby('SUBJECT_ID').ADMITTIME.shift(-1)\n",
    "df_adm['NEXT_HADM_ID'] = df_adm.groupby('SUBJECT_ID').HADM_ID.shift(-1)\n",
    "df_adm = df_adm.sort_values(['SUBJECT_ID','ADMITTIME'])\n",
    "\n",
    "# Back fill. This will take a little while.\n",
    "df_adm[['NEXT_ADMITTIME','NEXT_HADM_ID']] = df_adm.groupby(['SUBJECT_ID'])[['NEXT_ADMITTIME','NEXT_HADM_ID']].fillna(method = 'bfill')\n",
    "df_adm['DAYS_TIL_NEXT_ADMIT'] = (df_adm.NEXT_ADMITTIME - df_adm.DISCHTIME).dt.total_seconds()/(24*60*60)"
   ]
  },
  {
   "cell_type": "markdown",
   "id": "t2YP-WXSj4av",
   "metadata": {
    "id": "t2YP-WXSj4av"
   },
   "source": [
    "Clinical Notes dataframe"
   ]
  },
  {
   "cell_type": "code",
   "execution_count": 13,
   "id": "7pP74HChU3ef",
   "metadata": {
    "colab": {
     "base_uri": "https://localhost:8080/"
    },
    "id": "7pP74HChU3ef",
    "outputId": "e5302574-8592-4a07-a328-d6d12d7a0dc5"
   },
   "outputs": [
    {
     "name": "stderr",
     "output_type": "stream",
     "text": [
      "<ipython-input-13-778d94a3f7a5>:5: SettingWithCopyWarning: \n",
      "A value is trying to be set on a copy of a slice from a DataFrame.\n",
      "Try using .loc[row_indexer,col_indexer] = value instead\n",
      "\n",
      "See the caveats in the documentation: https://pandas.pydata.org/pandas-docs/stable/user_guide/indexing.html#returning-a-view-versus-a-copy\n",
      "  df_notes_dis_sum['SUBJECT_ID'] = df_notes_dis_sum['SUBJECT_ID'].astype(int)\n",
      "<ipython-input-13-778d94a3f7a5>:6: SettingWithCopyWarning: \n",
      "A value is trying to be set on a copy of a slice from a DataFrame.\n",
      "Try using .loc[row_indexer,col_indexer] = value instead\n",
      "\n",
      "See the caveats in the documentation: https://pandas.pydata.org/pandas-docs/stable/user_guide/indexing.html#returning-a-view-versus-a-copy\n",
      "  df_notes_dis_sum['HADM_ID'] = df_notes_dis_sum['HADM_ID'].astype(int)\n"
     ]
    }
   ],
   "source": [
    "# Choosing only discharge summary clinical notes\n",
    "df_notes_dis_sum = df_notes.loc[df_notes.CATEGORY == 'Discharge summary'] # 2083180 -> 59652; \n",
    "\n",
    "# changing type to ints so it aligns with the datatype of the other dataframes\n",
    "df_notes_dis_sum['SUBJECT_ID'] = df_notes_dis_sum['SUBJECT_ID'].astype(int)\n",
    "df_notes_dis_sum['HADM_ID'] = df_notes_dis_sum['HADM_ID'].astype(int)\n",
    "\n",
    "# selecting the last discharge summary for each admission, if there are multiple\n",
    "df_notes_dis_sum_last = (df_notes_dis_sum.groupby(['SUBJECT_ID','HADM_ID']).nth(-1)).reset_index()"
   ]
  },
  {
   "cell_type": "markdown",
   "id": "LgQbg5wIkD0W",
   "metadata": {
    "id": "LgQbg5wIkD0W"
   },
   "source": [
    "Merging Clinical Notes, Admissions, and Diagnoses Codes"
   ]
  },
  {
   "cell_type": "code",
   "execution_count": 14,
   "id": "1eTooxK_FNGz",
   "metadata": {
    "id": "1eTooxK_FNGz"
   },
   "outputs": [],
   "source": [
    "# first selecting admissions for subjects that have hf\n",
    "df_hf_adm = df_adm.loc[df_adm.SUBJECT_ID.isin(hf_pid_list)] # now 58976 -> 51113 -> 45321 -> 14746 rows of data\n",
    "\n",
    "# concatenating ICD-9 codes for patient admissions with multiple hf diagnoses\n",
    "df_subj_concat_icd_codes = df_codes[['SUBJECT_ID', 'HADM_ID', 'ICD9_CODE']].copy()\n",
    "df_subj_concat_icd_codes = df_subj_concat_icd_codes.groupby(['SUBJECT_ID', 'HADM_ID'])['ICD9_CODE'].agg(' '.join).reset_index() # # 651047 -> 21274 -> 14040 rows of data\n",
    "\n",
    "# merge the admissions and icd9-codes tables to get admissions involving hf diagnoses\n",
    "df_hf_admissions = pd.merge(df_adm[['SUBJECT_ID','HADM_ID','ADMITTIME','DISCHTIME','ADMISSION_TYPE','DEATHTIME', 'NEXT_ADMITTIME', 'NEXT_HADM_ID', 'DAYS_TIL_NEXT_ADMIT']],\n",
    "                        df_subj_concat_icd_codes, \n",
    "                        on = ['SUBJECT_ID', 'HADM_ID'],\n",
    "                        how = 'inner')\n",
    "# merge the admissions+icd-9 codes table with the discharge sumaries\n",
    "df_hf_adm_notes = pd.merge(df_hf_admissions[['SUBJECT_ID','HADM_ID', 'NEXT_ADMITTIME', 'NEXT_HADM_ID', 'DAYS_TIL_NEXT_ADMIT']], df_notes_dis_sum_last, \n",
    "                        on = ['SUBJECT_ID', 'HADM_ID'],\n",
    "                        how = 'inner')\n",
    "\n",
    "# finally, create output labels for 30-day readmission; 0 for no 30-day readmission, 1 for 30-day readmission\n",
    "df_hf_adm_notes['OUTPUT_LABEL'] = (df_hf_adm_notes.DAYS_TIL_NEXT_ADMIT < 30).astype('int') # consists of ____ 30-day readmission rows, and ___ without 30-day readmission rows\n",
    "\n",
    "\n",
    "df_hf_adm_notes['id'] = df_hf_adm_notes.index\n",
    "\n",
    "# shuffle input\n",
    "df_adm_notes_merged = df_hf_adm_notes.sample(n=len(df_hf_adm_notes), random_state=42)\n",
    "df_adm_notes_merged = df_adm_notes_merged.reset_index(drop=True)\n",
    "\n",
    "# finalized dataset\n",
    "df_final = df_adm_notes_merged.copy(deep=False) # 13755 records\n"
   ]
  },
  {
   "cell_type": "markdown",
   "id": "505a87e5",
   "metadata": {},
   "source": [
    "\n",
    "# Methodology explanation/General Pipeline\n",
    "\n",
    "Setup\n",
    "1. imported NOTEEVENTS.csv, ADMISSIONS.csv, DIAGNOSES_ICD.csv\n",
    "2. Filtred DIAGNOSES_ICD table to only include rows of data with heart failure ICD-9 codes:'39891', '40201', '40211', '40291', '40401', '40403', '40411', '40413', '40491', '40493', '4280', '4281', '42820','42821', '42822', '42823', '42830', '42831', '42832', '42833', '42840', '42841', '42842', '42843','4289'\n",
    "3. used ADMISSIONS.csv to obatin emergency addmissions, which have readmission within 30 days and have diagnosis as heart failure\n",
    "4. from NOTEEVENTS.csv, the discharge summaries for the addmission obtained from the previous step were extracted <br>\n",
    "5. Merged notes, admissions and diagonses to preprocess and generate embeddings\n",
    "\n",
    "Preprocessing <br>\n",
    "6. preprocessed discharge summaries to remove special chacters, extra spacing and lower case all text <br>\n",
    "7. split dataset into train and test sets\n",
    "\n",
    "CNN <br>\n",
    "8. used keras library to convert text corpus of notes to sequence of integers and padded sequences to length of  [2]\n",
    "9. generate embeddigns using pre-trained Word2vec embeddings <br>\n",
    "    1. if word is found in the embeddings, add to embedding matrix <br>\n",
    "10. used keras to run CNN achitecure, and evalute performance <br>\n",
    "11. For ablation test, Glove is compared to  pre-tranined Word2Vec and max pooling layer is compared to global average pooling layer of CNN. \n",
    "\n",
    "RF <br>\n",
    "12. Random forset model used to compare performance\n"
   ]
  },
  {
   "cell_type": "markdown",
   "id": "37a5139f",
   "metadata": {
    "id": "37a5139f"
   },
   "source": [
    "# Preprocessing"
   ]
  },
  {
   "cell_type": "markdown",
   "id": "b9cc2092",
   "metadata": {
    "id": "b9cc2092"
   },
   "source": [
    "Preprocessing text to remove any HTML tags, non-word characters, numbers; convert all text to lowercase; remove stopwords"
   ]
  },
  {
   "cell_type": "code",
   "execution_count": 18,
   "id": "ZC4RBfaQPH5X",
   "metadata": {
    "colab": {
     "base_uri": "https://localhost:8080/"
    },
    "id": "ZC4RBfaQPH5X",
    "outputId": "4a91d2fe-b334-4254-a930-91fa06b32273"
   },
   "outputs": [
    {
     "name": "stdout",
     "output_type": "stream",
     "text": [
      "Time taken for preprocessing:  73.49632239341736 seconds.\n"
     ]
    }
   ],
   "source": [
    "import re\n",
    "from nltk import word_tokenize\n",
    "from nltk.corpus import stopwords\n",
    "from string import punctuation\n",
    "\n",
    "stop_words = set(stopwords.words('english'))\n",
    "\n",
    "t0 = time()\n",
    "# Create new column with processed text\n",
    "df_final['text2'] = df_final['TEXT'].apply(preprocessor)\n",
    "elapsed=time() - t0\n",
    "\n",
    "print(\"Time taken for preprocessing: \", elapsed, \"seconds.\")\n",
    "\n",
    "\n",
    "# Split into test and train data\n",
    "df_test = df_final.sample(frac=0.2, random_state=42) # 2751\n",
    "df_train = df_final.drop(df_test.index) # 1104"
   ]
  },
  {
   "cell_type": "code",
   "execution_count": 19,
   "id": "9YsZOhEgZKfj",
   "metadata": {
    "id": "9YsZOhEgZKfj"
   },
   "outputs": [],
   "source": [
    "df_test = df_final.sample(frac=0.1, random_state=42) # 2751\n",
    "df_train = df_final.drop(df_test.index) # 1104"
   ]
  },
  {
   "cell_type": "markdown",
   "id": "3647fb59",
   "metadata": {
    "id": "3647fb59"
   },
   "source": [
    "# CNN"
   ]
  },
  {
   "cell_type": "markdown",
   "id": "b1096f43",
   "metadata": {},
   "source": [
    "Preprocessing"
   ]
  },
  {
   "cell_type": "code",
   "execution_count": 20,
   "id": "eQpLXSldf3Bt",
   "metadata": {
    "id": "eQpLXSldf3Bt"
   },
   "outputs": [],
   "source": [
    "# vectorize text to input through Word2Vec\n",
    "import numpy as np\n",
    "import tensorflow as tf\n",
    "from tensorflow import keras\n",
    "from tensorflow.keras.layers import TextVectorization\n",
    "\n",
    "# splitting data \n",
    "x_train, y_train, x_val, y_val, voc,  word_index = create_train_and_val_sets(df_train, df_test)"
   ]
  },
  {
   "cell_type": "code",
   "execution_count": 21,
   "id": "6H3HS_UbihiW",
   "metadata": {
    "id": "6H3HS_UbihiW"
   },
   "outputs": [],
   "source": [
    "# import pretrained embeddings  \n",
    "from gensim.models import KeyedVectors\n",
    "from gensim.test.utils import datapath\n",
    "import numpy as np  # Make sure that numpy is imported\n",
    "from nltk.corpus import stopwords\n",
    "\n",
    "#loading pre-trained BioWordVec\n",
    "reloaded_word_vectors = KeyedVectors.load_word2vec_format(biowordvecpath, binary=True)\n",
    "\n",
    "# remove stopwords from vectors since we removed them from our data\n",
    "STOPWORDS_WORD2VEC = stopwords.words('english') \n",
    "keys_updated = [word for word in reloaded_word_vectors.key_to_index if word not in STOPWORDS_WORD2VEC]\n",
    "index2word_set=set(keys_updated)"
   ]
  },
  {
   "cell_type": "code",
   "execution_count": 22,
   "id": "uxpGpI1bRRPB",
   "metadata": {
    "colab": {
     "base_uri": "https://localhost:8080/"
    },
    "id": "uxpGpI1bRRPB",
    "outputId": "452bbb87-cc13-4ddd-84be-849b079706a7"
   },
   "outputs": [
    {
     "name": "stdout",
     "output_type": "stream",
     "text": [
      "Converted 19697 words (303 misses)\n"
     ]
    }
   ],
   "source": [
    "num_tokens = len(voc) + 2\n",
    "embedding_dim = 200\n",
    "hits = 0\n",
    "misses = 0\n",
    "\n",
    "# Prepare embedding matrix\n",
    "embedding_matrix = np.zeros((num_tokens, embedding_dim))\n",
    "for word, i in word_index.items():\n",
    "    if word in index2word_set: \n",
    "        embedding_matrix[i] =  reloaded_word_vectors[word]\n",
    "        hits += 1\n",
    "    else:\n",
    "        misses += 1\n",
    "print(\"Converted %d words (%d misses)\" % (hits, misses))"
   ]
  },
  {
   "cell_type": "markdown",
   "id": "13f35859",
   "metadata": {},
   "source": [
    "Training"
   ]
  },
  {
   "cell_type": "code",
   "execution_count": 23,
   "id": "0WhdCV3GWpNT",
   "metadata": {
    "id": "0WhdCV3GWpNT"
   },
   "outputs": [],
   "source": [
    "embedding_layer = Embedding(\n",
    "      num_tokens,\n",
    "    embedding_dim,\n",
    "    embeddings_initializer=keras.initializers.Constant(embedding_matrix),\n",
    "    trainable=False,)\n",
    "  \n",
    "int_sequences_input = keras.Input(shape=(None,), dtype=\"int64\")\n",
    "embedded_sequences = embedding_layer(int_sequences_input)\n",
    "x = layers.Conv1D(128, 5, activation=\"relu\")(embedded_sequences)\n",
    "x = layers.MaxPooling1D(5)(x)\n",
    "x = layers.Conv1D(128, 5, activation=\"relu\")(x)\n",
    "x = layers.MaxPooling1D(5)(x)\n",
    "x = layers.Conv1D(128, 5, activation=\"relu\")(x)\n",
    "x = layers.GlobalMaxPooling1D()(x)\n",
    "x = layers.Dense(128, activation=\"relu\")(x)\n",
    "x = layers.Dropout(0.5)(x)\n",
    "preds = layers.Dense(2, activation=\"softmax\")(x)\n",
    "model = keras.Model(int_sequences_input, preds)"
   ]
  },
  {
   "cell_type": "code",
   "execution_count": 25,
   "id": "wamkUKjcW5Hz",
   "metadata": {
    "colab": {
     "base_uri": "https://localhost:8080/"
    },
    "id": "wamkUKjcW5Hz",
    "outputId": "f9ac346d-4f92-4b09-9c5c-ac609a70cafe"
   },
   "outputs": [
    {
     "name": "stderr",
     "output_type": "stream",
     "text": [
      "WARNING:absl:`lr` is deprecated in Keras optimizer, please use `learning_rate` or use the legacy optimizer, e.g.,tf.keras.optimizers.legacy.Adam.\n"
     ]
    },
    {
     "name": "stdout",
     "output_type": "stream",
     "text": [
      "Epoch 1/15\n",
      "86/86 [==============================] - 16s 21ms/step - loss: 0.3088 - acc: 0.9146 - val_loss: 0.2871 - val_acc: 0.9189\n",
      "Epoch 2/15\n",
      "86/86 [==============================] - 1s 10ms/step - loss: 0.2923 - acc: 0.9163 - val_loss: 0.2835 - val_acc: 0.9189\n",
      "Epoch 3/15\n",
      "86/86 [==============================] - 1s 10ms/step - loss: 0.2836 - acc: 0.9163 - val_loss: 0.2843 - val_acc: 0.9189\n",
      "Epoch 4/15\n",
      "86/86 [==============================] - 1s 10ms/step - loss: 0.2799 - acc: 0.9163 - val_loss: 0.2825 - val_acc: 0.9189\n",
      "Epoch 5/15\n",
      "86/86 [==============================] - 1s 11ms/step - loss: 0.2637 - acc: 0.9163 - val_loss: 0.2912 - val_acc: 0.9189\n",
      "Epoch 6/15\n",
      "86/86 [==============================] - 1s 11ms/step - loss: 0.2416 - acc: 0.9165 - val_loss: 0.3012 - val_acc: 0.9189\n",
      "Epoch 7/15\n",
      "86/86 [==============================] - 1s 10ms/step - loss: 0.1951 - acc: 0.9250 - val_loss: 0.3502 - val_acc: 0.9168\n",
      "Epoch 8/15\n",
      "86/86 [==============================] - 1s 11ms/step - loss: 0.1389 - acc: 0.9501 - val_loss: 0.4273 - val_acc: 0.8808\n",
      "Epoch 9/15\n",
      "86/86 [==============================] - 1s 11ms/step - loss: 0.0801 - acc: 0.9694 - val_loss: 0.5319 - val_acc: 0.9033\n",
      "Epoch 10/15\n",
      "86/86 [==============================] - 1s 11ms/step - loss: 0.0633 - acc: 0.9787 - val_loss: 0.5234 - val_acc: 0.9048\n",
      "Epoch 11/15\n",
      "86/86 [==============================] - 1s 11ms/step - loss: 0.0380 - acc: 0.9875 - val_loss: 0.6202 - val_acc: 0.8779\n",
      "Epoch 12/15\n",
      "86/86 [==============================] - 1s 12ms/step - loss: 0.0228 - acc: 0.9917 - val_loss: 0.6738 - val_acc: 0.8808\n",
      "Epoch 13/15\n",
      "86/86 [==============================] - 1s 12ms/step - loss: 0.0237 - acc: 0.9912 - val_loss: 0.7492 - val_acc: 0.8979\n",
      "Epoch 14/15\n",
      "86/86 [==============================] - 1s 12ms/step - loss: 0.0187 - acc: 0.9940 - val_loss: 0.7050 - val_acc: 0.8830\n",
      "Epoch 15/15\n",
      "86/86 [==============================] - 1s 12ms/step - loss: 0.0152 - acc: 0.9947 - val_loss: 0.8313 - val_acc: 0.9037\n"
     ]
    },
    {
     "data": {
      "text/plain": [
       "<keras.callbacks.History at 0x7f05804070d0>"
      ]
     },
     "execution_count": 25,
     "metadata": {},
     "output_type": "execute_result"
    }
   ],
   "source": [
    "from tensorflow.keras.optimizers import Adam\n",
    "model.compile(\n",
    "    loss=\"sparse_categorical_crossentropy\", optimizer=Adam(lr=0.0001), metrics=[\"acc\"]\n",
    ")\n",
    "model.fit(x_train, y_train, batch_size=128, epochs=15, validation_data=(x_val, y_val))"
   ]
  },
  {
   "cell_type": "markdown",
   "id": "b50fa061",
   "metadata": {},
   "source": [
    "Evaluation"
   ]
  },
  {
   "cell_type": "code",
   "execution_count": 26,
   "id": "erFPfUV8W9BF",
   "metadata": {
    "colab": {
     "base_uri": "https://localhost:8080/",
     "height": 224
    },
    "id": "erFPfUV8W9BF",
    "outputId": "c2ed695f-3288-42c8-b4bd-baef2c4b0d5e"
   },
   "outputs": [
    {
     "name": "stdout",
     "output_type": "stream",
     "text": [
      "86/86 [==============================] - 0s 3ms/step\n"
     ]
    },
    {
     "data": {
      "text/html": [
       "\n",
       "  <div id=\"df-4494b3e6-72f7-464b-8fa4-46095bd725fb\">\n",
       "    <div class=\"colab-df-container\">\n",
       "      <div>\n",
       "<style scoped>\n",
       "    .dataframe tbody tr th:only-of-type {\n",
       "        vertical-align: middle;\n",
       "    }\n",
       "\n",
       "    .dataframe tbody tr th {\n",
       "        vertical-align: top;\n",
       "    }\n",
       "\n",
       "    .dataframe thead th {\n",
       "        text-align: right;\n",
       "    }\n",
       "</style>\n",
       "<table border=\"1\" class=\"dataframe\">\n",
       "  <thead>\n",
       "    <tr style=\"text-align: right;\">\n",
       "      <th></th>\n",
       "      <th>precision</th>\n",
       "      <th>recall</th>\n",
       "      <th>f1-score</th>\n",
       "      <th>support</th>\n",
       "    </tr>\n",
       "  </thead>\n",
       "  <tbody>\n",
       "    <tr>\n",
       "      <th>0</th>\n",
       "      <td>0.920163</td>\n",
       "      <td>0.980222</td>\n",
       "      <td>0.949243</td>\n",
       "      <td>2528.000000</td>\n",
       "    </tr>\n",
       "    <tr>\n",
       "      <th>1</th>\n",
       "      <td>0.137931</td>\n",
       "      <td>0.035874</td>\n",
       "      <td>0.056940</td>\n",
       "      <td>223.000000</td>\n",
       "    </tr>\n",
       "    <tr>\n",
       "      <th>accuracy</th>\n",
       "      <td>0.903671</td>\n",
       "      <td>0.903671</td>\n",
       "      <td>0.903671</td>\n",
       "      <td>0.903671</td>\n",
       "    </tr>\n",
       "    <tr>\n",
       "      <th>macro avg</th>\n",
       "      <td>0.529047</td>\n",
       "      <td>0.508048</td>\n",
       "      <td>0.503091</td>\n",
       "      <td>2751.000000</td>\n",
       "    </tr>\n",
       "    <tr>\n",
       "      <th>weighted avg</th>\n",
       "      <td>0.856755</td>\n",
       "      <td>0.903671</td>\n",
       "      <td>0.876912</td>\n",
       "      <td>2751.000000</td>\n",
       "    </tr>\n",
       "  </tbody>\n",
       "</table>\n",
       "</div>\n",
       "      <button class=\"colab-df-convert\" onclick=\"convertToInteractive('df-4494b3e6-72f7-464b-8fa4-46095bd725fb')\"\n",
       "              title=\"Convert this dataframe to an interactive table.\"\n",
       "              style=\"display:none;\">\n",
       "        \n",
       "  <svg xmlns=\"http://www.w3.org/2000/svg\" height=\"24px\"viewBox=\"0 0 24 24\"\n",
       "       width=\"24px\">\n",
       "    <path d=\"M0 0h24v24H0V0z\" fill=\"none\"/>\n",
       "    <path d=\"M18.56 5.44l.94 2.06.94-2.06 2.06-.94-2.06-.94-.94-2.06-.94 2.06-2.06.94zm-11 1L8.5 8.5l.94-2.06 2.06-.94-2.06-.94L8.5 2.5l-.94 2.06-2.06.94zm10 10l.94 2.06.94-2.06 2.06-.94-2.06-.94-.94-2.06-.94 2.06-2.06.94z\"/><path d=\"M17.41 7.96l-1.37-1.37c-.4-.4-.92-.59-1.43-.59-.52 0-1.04.2-1.43.59L10.3 9.45l-7.72 7.72c-.78.78-.78 2.05 0 2.83L4 21.41c.39.39.9.59 1.41.59.51 0 1.02-.2 1.41-.59l7.78-7.78 2.81-2.81c.8-.78.8-2.07 0-2.86zM5.41 20L4 18.59l7.72-7.72 1.47 1.35L5.41 20z\"/>\n",
       "  </svg>\n",
       "      </button>\n",
       "      \n",
       "  <style>\n",
       "    .colab-df-container {\n",
       "      display:flex;\n",
       "      flex-wrap:wrap;\n",
       "      gap: 12px;\n",
       "    }\n",
       "\n",
       "    .colab-df-convert {\n",
       "      background-color: #E8F0FE;\n",
       "      border: none;\n",
       "      border-radius: 50%;\n",
       "      cursor: pointer;\n",
       "      display: none;\n",
       "      fill: #1967D2;\n",
       "      height: 32px;\n",
       "      padding: 0 0 0 0;\n",
       "      width: 32px;\n",
       "    }\n",
       "\n",
       "    .colab-df-convert:hover {\n",
       "      background-color: #E2EBFA;\n",
       "      box-shadow: 0px 1px 2px rgba(60, 64, 67, 0.3), 0px 1px 3px 1px rgba(60, 64, 67, 0.15);\n",
       "      fill: #174EA6;\n",
       "    }\n",
       "\n",
       "    [theme=dark] .colab-df-convert {\n",
       "      background-color: #3B4455;\n",
       "      fill: #D2E3FC;\n",
       "    }\n",
       "\n",
       "    [theme=dark] .colab-df-convert:hover {\n",
       "      background-color: #434B5C;\n",
       "      box-shadow: 0px 1px 3px 1px rgba(0, 0, 0, 0.15);\n",
       "      filter: drop-shadow(0px 1px 2px rgba(0, 0, 0, 0.3));\n",
       "      fill: #FFFFFF;\n",
       "    }\n",
       "  </style>\n",
       "\n",
       "      <script>\n",
       "        const buttonEl =\n",
       "          document.querySelector('#df-4494b3e6-72f7-464b-8fa4-46095bd725fb button.colab-df-convert');\n",
       "        buttonEl.style.display =\n",
       "          google.colab.kernel.accessAllowed ? 'block' : 'none';\n",
       "\n",
       "        async function convertToInteractive(key) {\n",
       "          const element = document.querySelector('#df-4494b3e6-72f7-464b-8fa4-46095bd725fb');\n",
       "          const dataTable =\n",
       "            await google.colab.kernel.invokeFunction('convertToInteractive',\n",
       "                                                     [key], {});\n",
       "          if (!dataTable) return;\n",
       "\n",
       "          const docLinkHtml = 'Like what you see? Visit the ' +\n",
       "            '<a target=\"_blank\" href=https://colab.research.google.com/notebooks/data_table.ipynb>data table notebook</a>'\n",
       "            + ' to learn more about interactive tables.';\n",
       "          element.innerHTML = '';\n",
       "          dataTable['output_type'] = 'display_data';\n",
       "          await google.colab.output.renderOutput(dataTable, element);\n",
       "          const docLink = document.createElement('div');\n",
       "          docLink.innerHTML = docLinkHtml;\n",
       "          element.appendChild(docLink);\n",
       "        }\n",
       "      </script>\n",
       "    </div>\n",
       "  </div>\n",
       "  "
      ],
      "text/plain": [
       "              precision    recall  f1-score      support\n",
       "0              0.920163  0.980222  0.949243  2528.000000\n",
       "1              0.137931  0.035874  0.056940   223.000000\n",
       "accuracy       0.903671  0.903671  0.903671     0.903671\n",
       "macro avg      0.529047  0.508048  0.503091  2751.000000\n",
       "weighted avg   0.856755  0.903671  0.876912  2751.000000"
      ]
     },
     "execution_count": 26,
     "metadata": {},
     "output_type": "execute_result"
    }
   ],
   "source": [
    "evaluate_model(model, x_val, y_val)"
   ]
  },
  {
   "cell_type": "markdown",
   "id": "PFbXX7_Meifq",
   "metadata": {
    "id": "PFbXX7_Meifq"
   },
   "source": [
    "# Random Forest"
   ]
  },
  {
   "cell_type": "code",
   "execution_count": 27,
   "id": "TcCYjnOgeeKS",
   "metadata": {
    "colab": {
     "base_uri": "https://localhost:8080/",
     "height": 390
    },
    "id": "TcCYjnOgeeKS",
    "outputId": "e5f9873c-c866-4e2c-cc09-cfae1292a7cb"
   },
   "outputs": [
    {
     "name": "stdout",
     "output_type": "stream",
     "text": [
      "Time taken for RF training:  117.63636875152588 seconds.\n"
     ]
    },
    {
     "name": "stderr",
     "output_type": "stream",
     "text": [
      "/usr/local/lib/python3.10/dist-packages/sklearn/metrics/_classification.py:1344: UndefinedMetricWarning: Precision and F-score are ill-defined and being set to 0.0 in labels with no predicted samples. Use `zero_division` parameter to control this behavior.\n",
      "  _warn_prf(average, modifier, msg_start, len(result))\n",
      "/usr/local/lib/python3.10/dist-packages/sklearn/metrics/_classification.py:1344: UndefinedMetricWarning: Precision and F-score are ill-defined and being set to 0.0 in labels with no predicted samples. Use `zero_division` parameter to control this behavior.\n",
      "  _warn_prf(average, modifier, msg_start, len(result))\n",
      "/usr/local/lib/python3.10/dist-packages/sklearn/metrics/_classification.py:1344: UndefinedMetricWarning: Precision and F-score are ill-defined and being set to 0.0 in labels with no predicted samples. Use `zero_division` parameter to control this behavior.\n",
      "  _warn_prf(average, modifier, msg_start, len(result))\n",
      "<ipython-input-27-40e4bb9ff380>:36: FutureWarning: In future versions `DataFrame.to_latex` is expected to utilise the base implementation of `Styler.to_latex` for formatting and rendering. The arguments signature may therefore change. It is recommended instead to use `DataFrame.style.to_latex` which also contains additional functionality.\n",
      "  df.to_latex()\n"
     ]
    },
    {
     "data": {
      "text/html": [
       "\n",
       "  <div id=\"df-8fefa5f0-4d38-44fe-8c6d-c396e6e10879\">\n",
       "    <div class=\"colab-df-container\">\n",
       "      <div>\n",
       "<style scoped>\n",
       "    .dataframe tbody tr th:only-of-type {\n",
       "        vertical-align: middle;\n",
       "    }\n",
       "\n",
       "    .dataframe tbody tr th {\n",
       "        vertical-align: top;\n",
       "    }\n",
       "\n",
       "    .dataframe thead th {\n",
       "        text-align: right;\n",
       "    }\n",
       "</style>\n",
       "<table border=\"1\" class=\"dataframe\">\n",
       "  <thead>\n",
       "    <tr style=\"text-align: right;\">\n",
       "      <th></th>\n",
       "      <th>precision</th>\n",
       "      <th>recall</th>\n",
       "      <th>f1-score</th>\n",
       "      <th>support</th>\n",
       "    </tr>\n",
       "  </thead>\n",
       "  <tbody>\n",
       "    <tr>\n",
       "      <th>0</th>\n",
       "      <td>0.918939</td>\n",
       "      <td>1.000000</td>\n",
       "      <td>0.957757</td>\n",
       "      <td>2528.000000</td>\n",
       "    </tr>\n",
       "    <tr>\n",
       "      <th>1</th>\n",
       "      <td>0.000000</td>\n",
       "      <td>0.000000</td>\n",
       "      <td>0.000000</td>\n",
       "      <td>223.000000</td>\n",
       "    </tr>\n",
       "    <tr>\n",
       "      <th>accuracy</th>\n",
       "      <td>0.918939</td>\n",
       "      <td>0.918939</td>\n",
       "      <td>0.918939</td>\n",
       "      <td>0.918939</td>\n",
       "    </tr>\n",
       "    <tr>\n",
       "      <th>macro avg</th>\n",
       "      <td>0.459469</td>\n",
       "      <td>0.500000</td>\n",
       "      <td>0.478879</td>\n",
       "      <td>2751.000000</td>\n",
       "    </tr>\n",
       "    <tr>\n",
       "      <th>weighted avg</th>\n",
       "      <td>0.844448</td>\n",
       "      <td>0.918939</td>\n",
       "      <td>0.880120</td>\n",
       "      <td>2751.000000</td>\n",
       "    </tr>\n",
       "  </tbody>\n",
       "</table>\n",
       "</div>\n",
       "      <button class=\"colab-df-convert\" onclick=\"convertToInteractive('df-8fefa5f0-4d38-44fe-8c6d-c396e6e10879')\"\n",
       "              title=\"Convert this dataframe to an interactive table.\"\n",
       "              style=\"display:none;\">\n",
       "        \n",
       "  <svg xmlns=\"http://www.w3.org/2000/svg\" height=\"24px\"viewBox=\"0 0 24 24\"\n",
       "       width=\"24px\">\n",
       "    <path d=\"M0 0h24v24H0V0z\" fill=\"none\"/>\n",
       "    <path d=\"M18.56 5.44l.94 2.06.94-2.06 2.06-.94-2.06-.94-.94-2.06-.94 2.06-2.06.94zm-11 1L8.5 8.5l.94-2.06 2.06-.94-2.06-.94L8.5 2.5l-.94 2.06-2.06.94zm10 10l.94 2.06.94-2.06 2.06-.94-2.06-.94-.94-2.06-.94 2.06-2.06.94z\"/><path d=\"M17.41 7.96l-1.37-1.37c-.4-.4-.92-.59-1.43-.59-.52 0-1.04.2-1.43.59L10.3 9.45l-7.72 7.72c-.78.78-.78 2.05 0 2.83L4 21.41c.39.39.9.59 1.41.59.51 0 1.02-.2 1.41-.59l7.78-7.78 2.81-2.81c.8-.78.8-2.07 0-2.86zM5.41 20L4 18.59l7.72-7.72 1.47 1.35L5.41 20z\"/>\n",
       "  </svg>\n",
       "      </button>\n",
       "      \n",
       "  <style>\n",
       "    .colab-df-container {\n",
       "      display:flex;\n",
       "      flex-wrap:wrap;\n",
       "      gap: 12px;\n",
       "    }\n",
       "\n",
       "    .colab-df-convert {\n",
       "      background-color: #E8F0FE;\n",
       "      border: none;\n",
       "      border-radius: 50%;\n",
       "      cursor: pointer;\n",
       "      display: none;\n",
       "      fill: #1967D2;\n",
       "      height: 32px;\n",
       "      padding: 0 0 0 0;\n",
       "      width: 32px;\n",
       "    }\n",
       "\n",
       "    .colab-df-convert:hover {\n",
       "      background-color: #E2EBFA;\n",
       "      box-shadow: 0px 1px 2px rgba(60, 64, 67, 0.3), 0px 1px 3px 1px rgba(60, 64, 67, 0.15);\n",
       "      fill: #174EA6;\n",
       "    }\n",
       "\n",
       "    [theme=dark] .colab-df-convert {\n",
       "      background-color: #3B4455;\n",
       "      fill: #D2E3FC;\n",
       "    }\n",
       "\n",
       "    [theme=dark] .colab-df-convert:hover {\n",
       "      background-color: #434B5C;\n",
       "      box-shadow: 0px 1px 3px 1px rgba(0, 0, 0, 0.15);\n",
       "      filter: drop-shadow(0px 1px 2px rgba(0, 0, 0, 0.3));\n",
       "      fill: #FFFFFF;\n",
       "    }\n",
       "  </style>\n",
       "\n",
       "      <script>\n",
       "        const buttonEl =\n",
       "          document.querySelector('#df-8fefa5f0-4d38-44fe-8c6d-c396e6e10879 button.colab-df-convert');\n",
       "        buttonEl.style.display =\n",
       "          google.colab.kernel.accessAllowed ? 'block' : 'none';\n",
       "\n",
       "        async function convertToInteractive(key) {\n",
       "          const element = document.querySelector('#df-8fefa5f0-4d38-44fe-8c6d-c396e6e10879');\n",
       "          const dataTable =\n",
       "            await google.colab.kernel.invokeFunction('convertToInteractive',\n",
       "                                                     [key], {});\n",
       "          if (!dataTable) return;\n",
       "\n",
       "          const docLinkHtml = 'Like what you see? Visit the ' +\n",
       "            '<a target=\"_blank\" href=https://colab.research.google.com/notebooks/data_table.ipynb>data table notebook</a>'\n",
       "            + ' to learn more about interactive tables.';\n",
       "          element.innerHTML = '';\n",
       "          dataTable['output_type'] = 'display_data';\n",
       "          await google.colab.output.renderOutput(dataTable, element);\n",
       "          const docLink = document.createElement('div');\n",
       "          docLink.innerHTML = docLinkHtml;\n",
       "          element.appendChild(docLink);\n",
       "        }\n",
       "      </script>\n",
       "    </div>\n",
       "  </div>\n",
       "  "
      ],
      "text/plain": [
       "              precision    recall  f1-score      support\n",
       "0              0.918939  1.000000  0.957757  2528.000000\n",
       "1              0.000000  0.000000  0.000000   223.000000\n",
       "accuracy       0.918939  0.918939  0.918939     0.918939\n",
       "macro avg      0.459469  0.500000  0.478879  2751.000000\n",
       "weighted avg   0.844448  0.918939  0.880120  2751.000000"
      ]
     },
     "execution_count": 27,
     "metadata": {},
     "output_type": "execute_result"
    }
   ],
   "source": [
    "# for processing\n",
    "import re\n",
    "import nltk\n",
    "from sklearn import feature_extraction, model_selection, naive_bayes, pipeline, manifold, preprocessing\n",
    "from sklearn.ensemble import RandomForestClassifier\n",
    "from sklearn.metrics import classification_report\n",
    "\n",
    "# get target values\n",
    "y_train = df_train[\"OUTPUT_LABEL\"].values\n",
    "y_test = df_test[\"OUTPUT_LABEL\"].values\n",
    "X_train = df_train[\"text2\"]\n",
    "X_test = df_test[\"text2\"]\n",
    "\n",
    "t0 = time()\n",
    "\n",
    "# transform training data into tf-idf vector - takes 1 minute to run\n",
    "vectorizer = feature_extraction.text.TfidfVectorizer(max_features=10000, ngram_range=(1,2))\n",
    "corpus = X_train # make sure using the right train data\n",
    "vectorizer.fit(corpus)\n",
    "X_train = vectorizer.transform(corpus)\n",
    "x_test = vectorizer.transform(X_test)\n",
    "dic_vocabulary = vectorizer.vocabulary_\n",
    "\n",
    "rf = RandomForestClassifier()\n",
    "rf.fit(X_train, y_train)\n",
    "predicted = rf.predict(x_test)\n",
    "\n",
    "\n",
    "elapsed=time() - t0\n",
    "print(\"Time taken for RF training: \", elapsed, \"seconds.\")\n",
    "\n",
    "report = classification_report(y_test, predicted, output_dict=True)\n",
    "df = pd.DataFrame(report).transpose()\n",
    "df.to_latex()\n",
    "df\n"
   ]
  },
  {
   "cell_type": "markdown",
   "id": "BvDRgsVnL29j",
   "metadata": {
    "id": "BvDRgsVnL29j"
   },
   "source": [
    "# CNN - with data balancing"
   ]
  },
  {
   "cell_type": "code",
   "execution_count": 28,
   "id": "EMblu02MapGe",
   "metadata": {
    "id": "EMblu02MapGe"
   },
   "outputs": [],
   "source": [
    "# resplitting our test and train data so that train data isn't too small when we subsample\n",
    "df_test = df_final.sample(frac=0.1, random_state=42) # 1376\n",
    "df_train = df_final.drop(df_test.index) # 12379"
   ]
  },
  {
   "cell_type": "code",
   "execution_count": 29,
   "id": "Uc_0H72FW84a",
   "metadata": {
    "colab": {
     "base_uri": "https://localhost:8080/"
    },
    "id": "Uc_0H72FW84a",
    "outputId": "5dd12ff5-89d7-4490-d4af-f6b5b214c407"
   },
   "outputs": [
    {
     "name": "stdout",
     "output_type": "stream",
     "text": [
      "Training Data set prevalence (n = 12379): 8.43%\n"
     ]
    }
   ],
   "source": [
    "print(\"Training Data set prevalence (n = {:d}):\".format(len(df_train)), \"{:.2f}%\".format((df_train.OUTPUT_LABEL.sum()/len(df_train))*100))"
   ]
  },
  {
   "cell_type": "code",
   "execution_count": 30,
   "id": "dybbf24IW8uj",
   "metadata": {
    "colab": {
     "base_uri": "https://localhost:8080/"
    },
    "id": "dybbf24IW8uj",
    "outputId": "03233f88-09a9-45e8-cf31-7df52b68022d"
   },
   "outputs": [
    {
     "name": "stdout",
     "output_type": "stream",
     "text": [
      "Before subsampling: \n",
      "Data set prevalence (n = 13755): 8.32%\n",
      "Training Data set prevalence (n = 12379): 8.43%\n",
      "Test Data set prevalence (n = 1376): 7.27%\n",
      "After subsampling: \n",
      "Training Data set prevalence (n = 2088): 50.00%\n"
     ]
    }
   ],
   "source": [
    "# subsampling the negatives\n",
    "\n",
    "print(\"Before subsampling: \")\n",
    "\n",
    "print(\"Data set prevalence (n = {:d}):\".format(len(df_final)), \"{:.2f}%\".format((df_final.OUTPUT_LABEL.sum()/len(df_final))*100))\n",
    "\n",
    "print(\"Training Data set prevalence (n = {:d}):\".format(len(df_train)), \"{:.2f}%\".format((df_train.OUTPUT_LABEL.sum()/len(df_train))*100))\n",
    "\n",
    "print(\"Test Data set prevalence (n = {:d}):\".format(len(df_test)), \"{:.2f}%\".format((df_test.OUTPUT_LABEL.sum()/len(df_test))*100))\n",
    "\n",
    "df_train_balanced = subsample(df_train)\n",
    "\n",
    "print(\"After subsampling: \")\n",
    "\n",
    "print(\"Training Data set prevalence (n = {:d}):\".format(len(df_train_balanced)), \"{:.2f}%\".format((df_train_balanced.OUTPUT_LABEL.sum()/len(df_train_balanced))*100))"
   ]
  },
  {
   "cell_type": "code",
   "execution_count": 31,
   "id": "TJYSqZNEXPIl",
   "metadata": {
    "id": "TJYSqZNEXPIl"
   },
   "outputs": [],
   "source": [
    "x_train, y_train, x_val, y_val, voc,  word_index = create_train_and_val_sets(df_train_balanced, df_test)"
   ]
  },
  {
   "cell_type": "code",
   "execution_count": 32,
   "id": "GY14All6XO74",
   "metadata": {
    "colab": {
     "base_uri": "https://localhost:8080/"
    },
    "id": "GY14All6XO74",
    "outputId": "a7013608-7587-4f34-c366-596f70b06065"
   },
   "outputs": [
    {
     "name": "stdout",
     "output_type": "stream",
     "text": [
      "Converted 18495 words (1505 misses)\n"
     ]
    }
   ],
   "source": [
    "num_tokens = len(voc) + 2\n",
    "embedding_dim = 200\n",
    "hits = 0\n",
    "misses = 0\n",
    "\n",
    "# Prepare embedding matrix\n",
    "embedding_matrix = np.zeros((num_tokens, embedding_dim))\n",
    "for word, i in word_index.items():\n",
    "    if word in index2word_set: \n",
    "        embedding_matrix[i] =  reloaded_word_vectors[word]\n",
    "        hits += 1\n",
    "    else:\n",
    "        misses += 1\n",
    "print(\"Converted %d words (%d misses)\" % (hits, misses))"
   ]
  },
  {
   "cell_type": "code",
   "execution_count": 33,
   "id": "yPhOFuQfIGCC",
   "metadata": {
    "colab": {
     "base_uri": "https://localhost:8080/",
     "height": 790
    },
    "id": "yPhOFuQfIGCC",
    "outputId": "bc009240-3a5a-4794-e5d0-368472c0baa9"
   },
   "outputs": [
    {
     "name": "stderr",
     "output_type": "stream",
     "text": [
      "WARNING:absl:`lr` is deprecated in Keras optimizer, please use `learning_rate` or use the legacy optimizer, e.g.,tf.keras.optimizers.legacy.Adam.\n"
     ]
    },
    {
     "name": "stdout",
     "output_type": "stream",
     "text": [
      "Epoch 1/15\n",
      "17/17 [==============================] - 3s 48ms/step - loss: 0.7449 - acc: 0.5086 - val_loss: 0.7020 - val_acc: 0.2413\n",
      "Epoch 2/15\n",
      "17/17 [==============================] - 0s 14ms/step - loss: 0.6969 - acc: 0.5144 - val_loss: 0.7263 - val_acc: 0.0741\n",
      "Epoch 3/15\n",
      "17/17 [==============================] - 0s 13ms/step - loss: 0.6930 - acc: 0.5230 - val_loss: 0.7299 - val_acc: 0.0727\n",
      "Epoch 4/15\n",
      "17/17 [==============================] - 0s 14ms/step - loss: 0.6886 - acc: 0.5441 - val_loss: 0.6407 - val_acc: 0.8728\n",
      "Epoch 5/15\n",
      "17/17 [==============================] - 0s 14ms/step - loss: 0.6772 - acc: 0.5872 - val_loss: 0.6149 - val_acc: 0.8445\n",
      "Epoch 6/15\n",
      "17/17 [==============================] - 0s 15ms/step - loss: 0.6713 - acc: 0.5996 - val_loss: 0.6212 - val_acc: 0.7304\n",
      "Epoch 7/15\n",
      "17/17 [==============================] - 0s 13ms/step - loss: 0.6934 - acc: 0.5086 - val_loss: 0.6481 - val_acc: 0.8852\n",
      "Epoch 8/15\n",
      "17/17 [==============================] - 0s 13ms/step - loss: 0.6806 - acc: 0.5742 - val_loss: 0.7110 - val_acc: 0.3983\n",
      "Epoch 9/15\n",
      "17/17 [==============================] - 0s 14ms/step - loss: 0.6546 - acc: 0.6250 - val_loss: 0.8124 - val_acc: 0.2631\n",
      "Epoch 10/15\n",
      "17/17 [==============================] - 0s 12ms/step - loss: 0.6231 - acc: 0.6662 - val_loss: 0.4034 - val_acc: 0.8815\n",
      "Epoch 11/15\n",
      "17/17 [==============================] - 0s 13ms/step - loss: 0.6064 - acc: 0.6638 - val_loss: 0.5477 - val_acc: 0.7805\n",
      "Epoch 12/15\n",
      "17/17 [==============================] - 0s 12ms/step - loss: 0.4791 - acc: 0.8190 - val_loss: 0.7014 - val_acc: 0.5610\n",
      "Epoch 13/15\n",
      "17/17 [==============================] - 0s 14ms/step - loss: 0.3437 - acc: 0.8774 - val_loss: 0.5505 - val_acc: 0.7122\n",
      "Epoch 14/15\n",
      "17/17 [==============================] - 0s 14ms/step - loss: 0.1796 - acc: 0.9526 - val_loss: 1.0084 - val_acc: 0.5312\n",
      "Epoch 15/15\n",
      "17/17 [==============================] - 0s 13ms/step - loss: 0.0834 - acc: 0.9799 - val_loss: 0.7347 - val_acc: 0.6751\n",
      "43/43 [==============================] - 0s 2ms/step\n"
     ]
    },
    {
     "data": {
      "text/html": [
       "\n",
       "  <div id=\"df-144ce55b-a9a3-4777-b56b-7126ed4f6267\">\n",
       "    <div class=\"colab-df-container\">\n",
       "      <div>\n",
       "<style scoped>\n",
       "    .dataframe tbody tr th:only-of-type {\n",
       "        vertical-align: middle;\n",
       "    }\n",
       "\n",
       "    .dataframe tbody tr th {\n",
       "        vertical-align: top;\n",
       "    }\n",
       "\n",
       "    .dataframe thead th {\n",
       "        text-align: right;\n",
       "    }\n",
       "</style>\n",
       "<table border=\"1\" class=\"dataframe\">\n",
       "  <thead>\n",
       "    <tr style=\"text-align: right;\">\n",
       "      <th></th>\n",
       "      <th>precision</th>\n",
       "      <th>recall</th>\n",
       "      <th>f1-score</th>\n",
       "      <th>support</th>\n",
       "    </tr>\n",
       "  </thead>\n",
       "  <tbody>\n",
       "    <tr>\n",
       "      <th>0</th>\n",
       "      <td>0.935857</td>\n",
       "      <td>0.697492</td>\n",
       "      <td>0.799282</td>\n",
       "      <td>1276.000000</td>\n",
       "    </tr>\n",
       "    <tr>\n",
       "      <th>1</th>\n",
       "      <td>0.091765</td>\n",
       "      <td>0.390000</td>\n",
       "      <td>0.148571</td>\n",
       "      <td>100.000000</td>\n",
       "    </tr>\n",
       "    <tr>\n",
       "      <th>accuracy</th>\n",
       "      <td>0.675145</td>\n",
       "      <td>0.675145</td>\n",
       "      <td>0.675145</td>\n",
       "      <td>0.675145</td>\n",
       "    </tr>\n",
       "    <tr>\n",
       "      <th>macro avg</th>\n",
       "      <td>0.513811</td>\n",
       "      <td>0.543746</td>\n",
       "      <td>0.473926</td>\n",
       "      <td>1376.000000</td>\n",
       "    </tr>\n",
       "    <tr>\n",
       "      <th>weighted avg</th>\n",
       "      <td>0.874513</td>\n",
       "      <td>0.675145</td>\n",
       "      <td>0.751992</td>\n",
       "      <td>1376.000000</td>\n",
       "    </tr>\n",
       "  </tbody>\n",
       "</table>\n",
       "</div>\n",
       "      <button class=\"colab-df-convert\" onclick=\"convertToInteractive('df-144ce55b-a9a3-4777-b56b-7126ed4f6267')\"\n",
       "              title=\"Convert this dataframe to an interactive table.\"\n",
       "              style=\"display:none;\">\n",
       "        \n",
       "  <svg xmlns=\"http://www.w3.org/2000/svg\" height=\"24px\"viewBox=\"0 0 24 24\"\n",
       "       width=\"24px\">\n",
       "    <path d=\"M0 0h24v24H0V0z\" fill=\"none\"/>\n",
       "    <path d=\"M18.56 5.44l.94 2.06.94-2.06 2.06-.94-2.06-.94-.94-2.06-.94 2.06-2.06.94zm-11 1L8.5 8.5l.94-2.06 2.06-.94-2.06-.94L8.5 2.5l-.94 2.06-2.06.94zm10 10l.94 2.06.94-2.06 2.06-.94-2.06-.94-.94-2.06-.94 2.06-2.06.94z\"/><path d=\"M17.41 7.96l-1.37-1.37c-.4-.4-.92-.59-1.43-.59-.52 0-1.04.2-1.43.59L10.3 9.45l-7.72 7.72c-.78.78-.78 2.05 0 2.83L4 21.41c.39.39.9.59 1.41.59.51 0 1.02-.2 1.41-.59l7.78-7.78 2.81-2.81c.8-.78.8-2.07 0-2.86zM5.41 20L4 18.59l7.72-7.72 1.47 1.35L5.41 20z\"/>\n",
       "  </svg>\n",
       "      </button>\n",
       "      \n",
       "  <style>\n",
       "    .colab-df-container {\n",
       "      display:flex;\n",
       "      flex-wrap:wrap;\n",
       "      gap: 12px;\n",
       "    }\n",
       "\n",
       "    .colab-df-convert {\n",
       "      background-color: #E8F0FE;\n",
       "      border: none;\n",
       "      border-radius: 50%;\n",
       "      cursor: pointer;\n",
       "      display: none;\n",
       "      fill: #1967D2;\n",
       "      height: 32px;\n",
       "      padding: 0 0 0 0;\n",
       "      width: 32px;\n",
       "    }\n",
       "\n",
       "    .colab-df-convert:hover {\n",
       "      background-color: #E2EBFA;\n",
       "      box-shadow: 0px 1px 2px rgba(60, 64, 67, 0.3), 0px 1px 3px 1px rgba(60, 64, 67, 0.15);\n",
       "      fill: #174EA6;\n",
       "    }\n",
       "\n",
       "    [theme=dark] .colab-df-convert {\n",
       "      background-color: #3B4455;\n",
       "      fill: #D2E3FC;\n",
       "    }\n",
       "\n",
       "    [theme=dark] .colab-df-convert:hover {\n",
       "      background-color: #434B5C;\n",
       "      box-shadow: 0px 1px 3px 1px rgba(0, 0, 0, 0.15);\n",
       "      filter: drop-shadow(0px 1px 2px rgba(0, 0, 0, 0.3));\n",
       "      fill: #FFFFFF;\n",
       "    }\n",
       "  </style>\n",
       "\n",
       "      <script>\n",
       "        const buttonEl =\n",
       "          document.querySelector('#df-144ce55b-a9a3-4777-b56b-7126ed4f6267 button.colab-df-convert');\n",
       "        buttonEl.style.display =\n",
       "          google.colab.kernel.accessAllowed ? 'block' : 'none';\n",
       "\n",
       "        async function convertToInteractive(key) {\n",
       "          const element = document.querySelector('#df-144ce55b-a9a3-4777-b56b-7126ed4f6267');\n",
       "          const dataTable =\n",
       "            await google.colab.kernel.invokeFunction('convertToInteractive',\n",
       "                                                     [key], {});\n",
       "          if (!dataTable) return;\n",
       "\n",
       "          const docLinkHtml = 'Like what you see? Visit the ' +\n",
       "            '<a target=\"_blank\" href=https://colab.research.google.com/notebooks/data_table.ipynb>data table notebook</a>'\n",
       "            + ' to learn more about interactive tables.';\n",
       "          element.innerHTML = '';\n",
       "          dataTable['output_type'] = 'display_data';\n",
       "          await google.colab.output.renderOutput(dataTable, element);\n",
       "          const docLink = document.createElement('div');\n",
       "          docLink.innerHTML = docLinkHtml;\n",
       "          element.appendChild(docLink);\n",
       "        }\n",
       "      </script>\n",
       "    </div>\n",
       "  </div>\n",
       "  "
      ],
      "text/plain": [
       "              precision    recall  f1-score      support\n",
       "0              0.935857  0.697492  0.799282  1276.000000\n",
       "1              0.091765  0.390000  0.148571   100.000000\n",
       "accuracy       0.675145  0.675145  0.675145     0.675145\n",
       "macro avg      0.513811  0.543746  0.473926  1376.000000\n",
       "weighted avg   0.874513  0.675145  0.751992  1376.000000"
      ]
     },
     "execution_count": 33,
     "metadata": {},
     "output_type": "execute_result"
    }
   ],
   "source": [
    "\n",
    "from tensorflow.keras.optimizers import Adam\n",
    "\n",
    "embedding_layer = Embedding(\n",
    "    num_tokens,\n",
    "    embedding_dim,\n",
    "    embeddings_initializer=keras.initializers.Constant(embedding_matrix),\n",
    "    trainable=False,\n",
    ")\n",
    "\n",
    "int_sequences_input = keras.Input(shape=(None,), dtype=\"int64\")\n",
    "embedded_sequences = embedding_layer(int_sequences_input)\n",
    "x = layers.Conv1D(128, 5, activation=\"relu\")(embedded_sequences)\n",
    "x = layers.MaxPooling1D(5)(x)\n",
    "x = layers.Conv1D(128, 5, activation=\"relu\")(x)\n",
    "x = layers.MaxPooling1D(5)(x)\n",
    "x = layers.Conv1D(128, 5, activation=\"relu\")(x)\n",
    "x = layers.GlobalMaxPooling1D()(x)\n",
    "x = layers.Dense(128, activation=\"relu\")(x)\n",
    "x = layers.Dropout(0.5)(x)\n",
    "preds = layers.Dense(2, activation=\"softmax\")(x)\n",
    "model = keras.Model(int_sequences_input, preds)\n",
    "\n",
    "model.compile(\n",
    "    loss=\"sparse_categorical_crossentropy\", optimizer=Adam(lr=0.0001), metrics=[\"acc\"]\n",
    ")\n",
    "model.fit(x_train, y_train, batch_size=128, epochs=15, validation_data=(x_val, y_val))\n",
    "\n",
    "evaluate_model(model, x_val, y_val)"
   ]
  },
  {
   "cell_type": "markdown",
   "id": "PNOND9W_aIHU",
   "metadata": {
    "id": "PNOND9W_aIHU"
   },
   "source": [
    "# Random Forest - with data balancing"
   ]
  },
  {
   "cell_type": "code",
   "execution_count": 34,
   "id": "7alAqB34aMZL",
   "metadata": {
    "colab": {
     "base_uri": "https://localhost:8080/",
     "height": 262
    },
    "id": "7alAqB34aMZL",
    "outputId": "3e1062e3-856b-47e3-8fdb-022bde7ce9ee"
   },
   "outputs": [
    {
     "name": "stderr",
     "output_type": "stream",
     "text": [
      "<ipython-input-34-6412ff0865f8>:31: FutureWarning: In future versions `DataFrame.to_latex` is expected to utilise the base implementation of `Styler.to_latex` for formatting and rendering. The arguments signature may therefore change. It is recommended instead to use `DataFrame.style.to_latex` which also contains additional functionality.\n",
      "  df.to_latex()\n"
     ]
    },
    {
     "data": {
      "text/html": [
       "\n",
       "  <div id=\"df-234fb2ef-8836-464d-8b49-3df83f727963\">\n",
       "    <div class=\"colab-df-container\">\n",
       "      <div>\n",
       "<style scoped>\n",
       "    .dataframe tbody tr th:only-of-type {\n",
       "        vertical-align: middle;\n",
       "    }\n",
       "\n",
       "    .dataframe tbody tr th {\n",
       "        vertical-align: top;\n",
       "    }\n",
       "\n",
       "    .dataframe thead th {\n",
       "        text-align: right;\n",
       "    }\n",
       "</style>\n",
       "<table border=\"1\" class=\"dataframe\">\n",
       "  <thead>\n",
       "    <tr style=\"text-align: right;\">\n",
       "      <th></th>\n",
       "      <th>precision</th>\n",
       "      <th>recall</th>\n",
       "      <th>f1-score</th>\n",
       "      <th>support</th>\n",
       "    </tr>\n",
       "  </thead>\n",
       "  <tbody>\n",
       "    <tr>\n",
       "      <th>0</th>\n",
       "      <td>0.958128</td>\n",
       "      <td>0.609718</td>\n",
       "      <td>0.745211</td>\n",
       "      <td>1276.000000</td>\n",
       "    </tr>\n",
       "    <tr>\n",
       "      <th>1</th>\n",
       "      <td>0.117021</td>\n",
       "      <td>0.660000</td>\n",
       "      <td>0.198795</td>\n",
       "      <td>100.000000</td>\n",
       "    </tr>\n",
       "    <tr>\n",
       "      <th>accuracy</th>\n",
       "      <td>0.613372</td>\n",
       "      <td>0.613372</td>\n",
       "      <td>0.613372</td>\n",
       "      <td>0.613372</td>\n",
       "    </tr>\n",
       "    <tr>\n",
       "      <th>macro avg</th>\n",
       "      <td>0.537575</td>\n",
       "      <td>0.634859</td>\n",
       "      <td>0.472003</td>\n",
       "      <td>1376.000000</td>\n",
       "    </tr>\n",
       "    <tr>\n",
       "      <th>weighted avg</th>\n",
       "      <td>0.897001</td>\n",
       "      <td>0.613372</td>\n",
       "      <td>0.705500</td>\n",
       "      <td>1376.000000</td>\n",
       "    </tr>\n",
       "  </tbody>\n",
       "</table>\n",
       "</div>\n",
       "      <button class=\"colab-df-convert\" onclick=\"convertToInteractive('df-234fb2ef-8836-464d-8b49-3df83f727963')\"\n",
       "              title=\"Convert this dataframe to an interactive table.\"\n",
       "              style=\"display:none;\">\n",
       "        \n",
       "  <svg xmlns=\"http://www.w3.org/2000/svg\" height=\"24px\"viewBox=\"0 0 24 24\"\n",
       "       width=\"24px\">\n",
       "    <path d=\"M0 0h24v24H0V0z\" fill=\"none\"/>\n",
       "    <path d=\"M18.56 5.44l.94 2.06.94-2.06 2.06-.94-2.06-.94-.94-2.06-.94 2.06-2.06.94zm-11 1L8.5 8.5l.94-2.06 2.06-.94-2.06-.94L8.5 2.5l-.94 2.06-2.06.94zm10 10l.94 2.06.94-2.06 2.06-.94-2.06-.94-.94-2.06-.94 2.06-2.06.94z\"/><path d=\"M17.41 7.96l-1.37-1.37c-.4-.4-.92-.59-1.43-.59-.52 0-1.04.2-1.43.59L10.3 9.45l-7.72 7.72c-.78.78-.78 2.05 0 2.83L4 21.41c.39.39.9.59 1.41.59.51 0 1.02-.2 1.41-.59l7.78-7.78 2.81-2.81c.8-.78.8-2.07 0-2.86zM5.41 20L4 18.59l7.72-7.72 1.47 1.35L5.41 20z\"/>\n",
       "  </svg>\n",
       "      </button>\n",
       "      \n",
       "  <style>\n",
       "    .colab-df-container {\n",
       "      display:flex;\n",
       "      flex-wrap:wrap;\n",
       "      gap: 12px;\n",
       "    }\n",
       "\n",
       "    .colab-df-convert {\n",
       "      background-color: #E8F0FE;\n",
       "      border: none;\n",
       "      border-radius: 50%;\n",
       "      cursor: pointer;\n",
       "      display: none;\n",
       "      fill: #1967D2;\n",
       "      height: 32px;\n",
       "      padding: 0 0 0 0;\n",
       "      width: 32px;\n",
       "    }\n",
       "\n",
       "    .colab-df-convert:hover {\n",
       "      background-color: #E2EBFA;\n",
       "      box-shadow: 0px 1px 2px rgba(60, 64, 67, 0.3), 0px 1px 3px 1px rgba(60, 64, 67, 0.15);\n",
       "      fill: #174EA6;\n",
       "    }\n",
       "\n",
       "    [theme=dark] .colab-df-convert {\n",
       "      background-color: #3B4455;\n",
       "      fill: #D2E3FC;\n",
       "    }\n",
       "\n",
       "    [theme=dark] .colab-df-convert:hover {\n",
       "      background-color: #434B5C;\n",
       "      box-shadow: 0px 1px 3px 1px rgba(0, 0, 0, 0.15);\n",
       "      filter: drop-shadow(0px 1px 2px rgba(0, 0, 0, 0.3));\n",
       "      fill: #FFFFFF;\n",
       "    }\n",
       "  </style>\n",
       "\n",
       "      <script>\n",
       "        const buttonEl =\n",
       "          document.querySelector('#df-234fb2ef-8836-464d-8b49-3df83f727963 button.colab-df-convert');\n",
       "        buttonEl.style.display =\n",
       "          google.colab.kernel.accessAllowed ? 'block' : 'none';\n",
       "\n",
       "        async function convertToInteractive(key) {\n",
       "          const element = document.querySelector('#df-234fb2ef-8836-464d-8b49-3df83f727963');\n",
       "          const dataTable =\n",
       "            await google.colab.kernel.invokeFunction('convertToInteractive',\n",
       "                                                     [key], {});\n",
       "          if (!dataTable) return;\n",
       "\n",
       "          const docLinkHtml = 'Like what you see? Visit the ' +\n",
       "            '<a target=\"_blank\" href=https://colab.research.google.com/notebooks/data_table.ipynb>data table notebook</a>'\n",
       "            + ' to learn more about interactive tables.';\n",
       "          element.innerHTML = '';\n",
       "          dataTable['output_type'] = 'display_data';\n",
       "          await google.colab.output.renderOutput(dataTable, element);\n",
       "          const docLink = document.createElement('div');\n",
       "          docLink.innerHTML = docLinkHtml;\n",
       "          element.appendChild(docLink);\n",
       "        }\n",
       "      </script>\n",
       "    </div>\n",
       "  </div>\n",
       "  "
      ],
      "text/plain": [
       "              precision    recall  f1-score      support\n",
       "0              0.958128  0.609718  0.745211  1276.000000\n",
       "1              0.117021  0.660000  0.198795   100.000000\n",
       "accuracy       0.613372  0.613372  0.613372     0.613372\n",
       "macro avg      0.537575  0.634859  0.472003  1376.000000\n",
       "weighted avg   0.897001  0.613372  0.705500  1376.000000"
      ]
     },
     "execution_count": 34,
     "metadata": {},
     "output_type": "execute_result"
    }
   ],
   "source": [
    "# for processing\n",
    "import re\n",
    "import nltk\n",
    "from sklearn import feature_extraction, model_selection, naive_bayes, pipeline, manifold, preprocessing\n",
    "from sklearn.ensemble import RandomForestClassifier\n",
    "from sklearn.metrics import classification_report\n",
    "\n",
    "# get target values\n",
    "y_train = df_train_balanced[\"OUTPUT_LABEL\"].values\n",
    "y_test = df_test[\"OUTPUT_LABEL\"].values\n",
    "X_train = df_train_balanced[\"text2\"]\n",
    "X_test = df_test[\"text2\"]\n",
    "\n",
    "\n",
    "# transform training data into tf-idf vector - takes 1 minute to run\n",
    "vectorizer = feature_extraction.text.TfidfVectorizer(max_features=10000, ngram_range=(1,2))\n",
    "corpus = X_train # make sure using the right train data\n",
    "vectorizer.fit(corpus)\n",
    "X_train = vectorizer.transform(corpus)\n",
    "x_test = vectorizer.transform(X_test)\n",
    "dic_vocabulary = vectorizer.vocabulary_\n",
    "\n",
    "rf = RandomForestClassifier()\n",
    "rf.fit(X_train, y_train)\n",
    "predicted = rf.predict(x_test)\n",
    "\n",
    "report = classification_report(y_test, predicted, output_dict=True)\n",
    "df = pd.DataFrame(report).transpose()\n",
    "df.to_latex()\n",
    "df\n"
   ]
  },
  {
   "cell_type": "markdown",
   "id": "uQ6go8N0R5rA",
   "metadata": {
    "id": "uQ6go8N0R5rA"
   },
   "source": [
    "# CNN - with data augmentation and balancing"
   ]
  },
  {
   "cell_type": "code",
   "execution_count": 35,
   "id": "v3P-vYSZSBUI",
   "metadata": {
    "colab": {
     "base_uri": "https://localhost:8080/"
    },
    "id": "v3P-vYSZSBUI",
    "outputId": "e4bc6704-5129-47a7-e93b-58f1e814d1f5"
   },
   "outputs": [
    {
     "name": "stdout",
     "output_type": "stream",
     "text": [
      "Training Data set prevalence (n = 12379): 8.43%\n"
     ]
    }
   ],
   "source": [
    "print(\"Training Data set prevalence (n = {:d}):\".format(len(df_train)), \"{:.2f}%\".format((df_train.OUTPUT_LABEL.sum()/len(df_train))*100)) # should have gone up from 8% to 11% after data aug"
   ]
  },
  {
   "cell_type": "code",
   "execution_count": 36,
   "id": "ZcvCEmf8zPVZ",
   "metadata": {
    "id": "ZcvCEmf8zPVZ"
   },
   "outputs": [],
   "source": [
    "\n",
    "pos_rows = df_train.OUTPUT_LABEL == 1\n",
    "df_pos = df_train.loc[pos_rows]\n",
    "df_neg = df_train.loc[~pos_rows]\n",
    "\n",
    "df_pos = df_pos.reset_index(drop=True)\n",
    "\n",
    "df_pos['id2'] = df_pos.index\n",
    "\n",
    "indexes = np.random.randint(0, df_pos.shape[0], 1000)\n",
    "\n",
    "for num, i in enumerate(indexes):\n",
    "    x = df_pos.loc[df_pos.id2==i]['text2']\n",
    "    sample =  str(np.trim_zeros(x)).split()\n",
    "    if str(i) in sample:\n",
    "        sample.remove(str(i))\n",
    "\n",
    "    modified = modify_sentence(sample)\n",
    "    sentence_m = ' '.join([x for x in modified])\n",
    "\n",
    "    df2 = pd.DataFrame({'text2': [sentence_m], 'OUTPUT_LABEL': [1]})\n",
    "    df_pos = pd.concat([df2, df_pos], ignore_index = True)\n",
    "    df_pos.reset_index()\n",
    "\n",
    "df_train_aug = pd.concat([df_pos, df_neg], axis = 0)"
   ]
  },
  {
   "cell_type": "code",
   "execution_count": 37,
   "id": "BJehRrcpdTJL",
   "metadata": {
    "colab": {
     "base_uri": "https://localhost:8080/"
    },
    "id": "BJehRrcpdTJL",
    "outputId": "b0192490-bcb2-4147-98b2-887edd62cfcf"
   },
   "outputs": [
    {
     "name": "stdout",
     "output_type": "stream",
     "text": [
      "Before subsampling: \n",
      "Training Data set prevalence (n = 13379): 15.28%\n",
      "After subsampling: \n",
      "Training Data set prevalence (n = 4088): 50.00%\n"
     ]
    }
   ],
   "source": [
    "print(\"Before subsampling: \")\n",
    "\n",
    "print(\"Training Data set prevalence (n = {:d}):\".format(len(df_train_aug)), \"{:.2f}%\".format((df_train_aug.OUTPUT_LABEL.sum()/len(df_train_aug))*100))\n",
    "\n",
    "df_train_balanced_and_aug = subsample(df_train_aug)\n",
    "\n",
    "print(\"After subsampling: \")\n",
    "\n",
    "print(\"Training Data set prevalence (n = {:d}):\".format(len(df_train_balanced_and_aug)), \"{:.2f}%\".format((df_train_balanced_and_aug.OUTPUT_LABEL.sum()/len(df_train_balanced_and_aug))*100))"
   ]
  },
  {
   "cell_type": "code",
   "execution_count": 40,
   "id": "ee8bCwFJSA6r",
   "metadata": {
    "id": "ee8bCwFJSA6r"
   },
   "outputs": [],
   "source": [
    "x_train, y_train, x_val, y_val, voc,  word_index = create_train_and_val_sets(df_train_balanced_and_aug, df_test)"
   ]
  },
  {
   "cell_type": "code",
   "execution_count": 41,
   "id": "CQWytcVUhGKH",
   "metadata": {
    "colab": {
     "base_uri": "https://localhost:8080/"
    },
    "id": "CQWytcVUhGKH",
    "outputId": "094e2a86-62ce-4282-f04d-6527f147b741"
   },
   "outputs": [
    {
     "name": "stdout",
     "output_type": "stream",
     "text": [
      "Converted 19221 words (779 misses)\n"
     ]
    }
   ],
   "source": [
    "num_tokens = len(voc) + 2\n",
    "embedding_dim = 200\n",
    "hits = 0\n",
    "misses = 0\n",
    "\n",
    "# Prepare embedding matrix\n",
    "embedding_matrix = np.zeros((num_tokens, embedding_dim))\n",
    "for word, i in word_index.items():\n",
    "    if word in index2word_set: \n",
    "        embedding_matrix[i] =  reloaded_word_vectors[word]\n",
    "        hits += 1\n",
    "    else:\n",
    "        misses += 1\n",
    "print(\"Converted %d words (%d misses)\" % (hits, misses))"
   ]
  },
  {
   "cell_type": "code",
   "execution_count": 42,
   "id": "QJclK8VwBLzr",
   "metadata": {
    "colab": {
     "base_uri": "https://localhost:8080/",
     "height": 790
    },
    "id": "QJclK8VwBLzr",
    "outputId": "d9deacd0-0973-4b3a-db41-3af2c1521f11"
   },
   "outputs": [
    {
     "name": "stderr",
     "output_type": "stream",
     "text": [
      "WARNING:absl:`lr` is deprecated in Keras optimizer, please use `learning_rate` or use the legacy optimizer, e.g.,tf.keras.optimizers.legacy.Adam.\n"
     ]
    },
    {
     "name": "stdout",
     "output_type": "stream",
     "text": [
      "Epoch 1/15\n",
      "32/32 [==============================] - 3s 32ms/step - loss: 0.6088 - acc: 0.7128 - val_loss: 0.5470 - val_acc: 0.8895\n",
      "Epoch 2/15\n",
      "32/32 [==============================] - 1s 19ms/step - loss: 0.4902 - acc: 0.7397 - val_loss: 0.5253 - val_acc: 0.9230\n",
      "Epoch 3/15\n",
      "32/32 [==============================] - 0s 13ms/step - loss: 0.4766 - acc: 0.7441 - val_loss: 0.4587 - val_acc: 0.9251\n",
      "Epoch 4/15\n",
      "32/32 [==============================] - 0s 12ms/step - loss: 0.4679 - acc: 0.7427 - val_loss: 0.5061 - val_acc: 0.9106\n",
      "Epoch 5/15\n",
      "32/32 [==============================] - 0s 12ms/step - loss: 0.4543 - acc: 0.7532 - val_loss: 0.3462 - val_acc: 0.9273\n",
      "Epoch 6/15\n",
      "32/32 [==============================] - 0s 11ms/step - loss: 0.4215 - acc: 0.7828 - val_loss: 0.4076 - val_acc: 0.9026\n",
      "Epoch 7/15\n",
      "32/32 [==============================] - 0s 11ms/step - loss: 0.3581 - acc: 0.8293 - val_loss: 0.4934 - val_acc: 0.8517\n",
      "Epoch 8/15\n",
      "32/32 [==============================] - 0s 12ms/step - loss: 0.2682 - acc: 0.8872 - val_loss: 0.2985 - val_acc: 0.9128\n",
      "Epoch 9/15\n",
      "32/32 [==============================] - 0s 12ms/step - loss: 0.1209 - acc: 0.9560 - val_loss: 0.5958 - val_acc: 0.7347\n",
      "Epoch 10/15\n",
      "32/32 [==============================] - 0s 11ms/step - loss: 0.0863 - acc: 0.9645 - val_loss: 0.5917 - val_acc: 0.7573\n",
      "Epoch 11/15\n",
      "32/32 [==============================] - 0s 11ms/step - loss: 0.0614 - acc: 0.9795 - val_loss: 0.6819 - val_acc: 0.7507\n",
      "Epoch 12/15\n",
      "32/32 [==============================] - 0s 11ms/step - loss: 0.0376 - acc: 0.9878 - val_loss: 0.8255 - val_acc: 0.7376\n",
      "Epoch 13/15\n",
      "32/32 [==============================] - 0s 11ms/step - loss: 0.0220 - acc: 0.9922 - val_loss: 0.9750 - val_acc: 0.6977\n",
      "Epoch 14/15\n",
      "32/32 [==============================] - 0s 12ms/step - loss: 0.0259 - acc: 0.9907 - val_loss: 1.0579 - val_acc: 0.7035\n",
      "Epoch 15/15\n",
      "32/32 [==============================] - 0s 11ms/step - loss: 0.0195 - acc: 0.9932 - val_loss: 0.6811 - val_acc: 0.8147\n",
      "43/43 [==============================] - 0s 3ms/step\n"
     ]
    },
    {
     "data": {
      "text/html": [
       "\n",
       "  <div id=\"df-a7c735ee-1325-4d69-ad8a-56f5f3f9138c\">\n",
       "    <div class=\"colab-df-container\">\n",
       "      <div>\n",
       "<style scoped>\n",
       "    .dataframe tbody tr th:only-of-type {\n",
       "        vertical-align: middle;\n",
       "    }\n",
       "\n",
       "    .dataframe tbody tr th {\n",
       "        vertical-align: top;\n",
       "    }\n",
       "\n",
       "    .dataframe thead th {\n",
       "        text-align: right;\n",
       "    }\n",
       "</style>\n",
       "<table border=\"1\" class=\"dataframe\">\n",
       "  <thead>\n",
       "    <tr style=\"text-align: right;\">\n",
       "      <th></th>\n",
       "      <th>precision</th>\n",
       "      <th>recall</th>\n",
       "      <th>f1-score</th>\n",
       "      <th>support</th>\n",
       "    </tr>\n",
       "  </thead>\n",
       "  <tbody>\n",
       "    <tr>\n",
       "      <th>0</th>\n",
       "      <td>0.932261</td>\n",
       "      <td>0.862853</td>\n",
       "      <td>0.896215</td>\n",
       "      <td>1276.00000</td>\n",
       "    </tr>\n",
       "    <tr>\n",
       "      <th>1</th>\n",
       "      <td>0.102564</td>\n",
       "      <td>0.200000</td>\n",
       "      <td>0.135593</td>\n",
       "      <td>100.00000</td>\n",
       "    </tr>\n",
       "    <tr>\n",
       "      <th>accuracy</th>\n",
       "      <td>0.814680</td>\n",
       "      <td>0.814680</td>\n",
       "      <td>0.814680</td>\n",
       "      <td>0.81468</td>\n",
       "    </tr>\n",
       "    <tr>\n",
       "      <th>macro avg</th>\n",
       "      <td>0.517412</td>\n",
       "      <td>0.531426</td>\n",
       "      <td>0.515904</td>\n",
       "      <td>1376.00000</td>\n",
       "    </tr>\n",
       "    <tr>\n",
       "      <th>weighted avg</th>\n",
       "      <td>0.871963</td>\n",
       "      <td>0.814680</td>\n",
       "      <td>0.840937</td>\n",
       "      <td>1376.00000</td>\n",
       "    </tr>\n",
       "  </tbody>\n",
       "</table>\n",
       "</div>\n",
       "      <button class=\"colab-df-convert\" onclick=\"convertToInteractive('df-a7c735ee-1325-4d69-ad8a-56f5f3f9138c')\"\n",
       "              title=\"Convert this dataframe to an interactive table.\"\n",
       "              style=\"display:none;\">\n",
       "        \n",
       "  <svg xmlns=\"http://www.w3.org/2000/svg\" height=\"24px\"viewBox=\"0 0 24 24\"\n",
       "       width=\"24px\">\n",
       "    <path d=\"M0 0h24v24H0V0z\" fill=\"none\"/>\n",
       "    <path d=\"M18.56 5.44l.94 2.06.94-2.06 2.06-.94-2.06-.94-.94-2.06-.94 2.06-2.06.94zm-11 1L8.5 8.5l.94-2.06 2.06-.94-2.06-.94L8.5 2.5l-.94 2.06-2.06.94zm10 10l.94 2.06.94-2.06 2.06-.94-2.06-.94-.94-2.06-.94 2.06-2.06.94z\"/><path d=\"M17.41 7.96l-1.37-1.37c-.4-.4-.92-.59-1.43-.59-.52 0-1.04.2-1.43.59L10.3 9.45l-7.72 7.72c-.78.78-.78 2.05 0 2.83L4 21.41c.39.39.9.59 1.41.59.51 0 1.02-.2 1.41-.59l7.78-7.78 2.81-2.81c.8-.78.8-2.07 0-2.86zM5.41 20L4 18.59l7.72-7.72 1.47 1.35L5.41 20z\"/>\n",
       "  </svg>\n",
       "      </button>\n",
       "      \n",
       "  <style>\n",
       "    .colab-df-container {\n",
       "      display:flex;\n",
       "      flex-wrap:wrap;\n",
       "      gap: 12px;\n",
       "    }\n",
       "\n",
       "    .colab-df-convert {\n",
       "      background-color: #E8F0FE;\n",
       "      border: none;\n",
       "      border-radius: 50%;\n",
       "      cursor: pointer;\n",
       "      display: none;\n",
       "      fill: #1967D2;\n",
       "      height: 32px;\n",
       "      padding: 0 0 0 0;\n",
       "      width: 32px;\n",
       "    }\n",
       "\n",
       "    .colab-df-convert:hover {\n",
       "      background-color: #E2EBFA;\n",
       "      box-shadow: 0px 1px 2px rgba(60, 64, 67, 0.3), 0px 1px 3px 1px rgba(60, 64, 67, 0.15);\n",
       "      fill: #174EA6;\n",
       "    }\n",
       "\n",
       "    [theme=dark] .colab-df-convert {\n",
       "      background-color: #3B4455;\n",
       "      fill: #D2E3FC;\n",
       "    }\n",
       "\n",
       "    [theme=dark] .colab-df-convert:hover {\n",
       "      background-color: #434B5C;\n",
       "      box-shadow: 0px 1px 3px 1px rgba(0, 0, 0, 0.15);\n",
       "      filter: drop-shadow(0px 1px 2px rgba(0, 0, 0, 0.3));\n",
       "      fill: #FFFFFF;\n",
       "    }\n",
       "  </style>\n",
       "\n",
       "      <script>\n",
       "        const buttonEl =\n",
       "          document.querySelector('#df-a7c735ee-1325-4d69-ad8a-56f5f3f9138c button.colab-df-convert');\n",
       "        buttonEl.style.display =\n",
       "          google.colab.kernel.accessAllowed ? 'block' : 'none';\n",
       "\n",
       "        async function convertToInteractive(key) {\n",
       "          const element = document.querySelector('#df-a7c735ee-1325-4d69-ad8a-56f5f3f9138c');\n",
       "          const dataTable =\n",
       "            await google.colab.kernel.invokeFunction('convertToInteractive',\n",
       "                                                     [key], {});\n",
       "          if (!dataTable) return;\n",
       "\n",
       "          const docLinkHtml = 'Like what you see? Visit the ' +\n",
       "            '<a target=\"_blank\" href=https://colab.research.google.com/notebooks/data_table.ipynb>data table notebook</a>'\n",
       "            + ' to learn more about interactive tables.';\n",
       "          element.innerHTML = '';\n",
       "          dataTable['output_type'] = 'display_data';\n",
       "          await google.colab.output.renderOutput(dataTable, element);\n",
       "          const docLink = document.createElement('div');\n",
       "          docLink.innerHTML = docLinkHtml;\n",
       "          element.appendChild(docLink);\n",
       "        }\n",
       "      </script>\n",
       "    </div>\n",
       "  </div>\n",
       "  "
      ],
      "text/plain": [
       "              precision    recall  f1-score     support\n",
       "0              0.932261  0.862853  0.896215  1276.00000\n",
       "1              0.102564  0.200000  0.135593   100.00000\n",
       "accuracy       0.814680  0.814680  0.814680     0.81468\n",
       "macro avg      0.517412  0.531426  0.515904  1376.00000\n",
       "weighted avg   0.871963  0.814680  0.840937  1376.00000"
      ]
     },
     "execution_count": 42,
     "metadata": {},
     "output_type": "execute_result"
    }
   ],
   "source": [
    "embedding_layer = Embedding(\n",
    "    num_tokens,\n",
    "    embedding_dim,\n",
    "    embeddings_initializer=keras.initializers.Constant(embedding_matrix),\n",
    "    trainable=False,\n",
    ")\n",
    "\n",
    "int_sequences_input = keras.Input(shape=(None,), dtype=\"int64\")\n",
    "embedded_sequences = embedding_layer(int_sequences_input)\n",
    "x = layers.Conv1D(128, 5, activation=\"relu\")(embedded_sequences)\n",
    "\n",
    "x = layers.MaxPooling1D(5)(x)\n",
    "x = layers.Conv1D(128, 5, activation=\"relu\")(x)\n",
    "\n",
    "x = layers.MaxPooling1D(5)(x)\n",
    "x = layers.Conv1D(128, 5, activation=\"relu\")(x)\n",
    "\n",
    "x = layers.GlobalAveragePooling1D()(x)\n",
    "x = layers.Dense(128, activation=\"relu\")(x)\n",
    "x = layers.Dropout(0.5)(x)\n",
    "preds = layers.Dense(2, activation=\"softmax\")(x)\n",
    "model = keras.Model(int_sequences_input, preds)\n",
    "# model.summary()\n",
    "model.compile(\n",
    "    loss=\"sparse_categorical_crossentropy\", optimizer=Adam(lr=0.0001), metrics=[\"acc\"]\n",
    ")\n",
    "model.fit(x_train, y_train, batch_size=128, epochs=15, validation_data=(x_val, y_val))\n",
    "\n",
    "evaluate_model(model, x_val, y_val)"
   ]
  },
  {
   "cell_type": "markdown",
   "id": "BTWCN0t-euH6",
   "metadata": {
    "id": "BTWCN0t-euH6"
   },
   "source": [
    "# Random Forest - with data augmentation and balancing"
   ]
  },
  {
   "cell_type": "code",
   "execution_count": 43,
   "id": "Rp_viNYU3IW2",
   "metadata": {
    "colab": {
     "base_uri": "https://localhost:8080/",
     "height": 262
    },
    "id": "Rp_viNYU3IW2",
    "outputId": "57e064d1-3334-4bbf-8e04-c44672ee20bb"
   },
   "outputs": [
    {
     "name": "stderr",
     "output_type": "stream",
     "text": [
      "<ipython-input-43-5ef535c23c5e>:22: FutureWarning: In future versions `DataFrame.to_latex` is expected to utilise the base implementation of `Styler.to_latex` for formatting and rendering. The arguments signature may therefore change. It is recommended instead to use `DataFrame.style.to_latex` which also contains additional functionality.\n",
      "  df.to_latex()\n"
     ]
    },
    {
     "data": {
      "text/html": [
       "\n",
       "  <div id=\"df-2bdd1c5e-a1d3-4b41-902c-18bbd5927eab\">\n",
       "    <div class=\"colab-df-container\">\n",
       "      <div>\n",
       "<style scoped>\n",
       "    .dataframe tbody tr th:only-of-type {\n",
       "        vertical-align: middle;\n",
       "    }\n",
       "\n",
       "    .dataframe tbody tr th {\n",
       "        vertical-align: top;\n",
       "    }\n",
       "\n",
       "    .dataframe thead th {\n",
       "        text-align: right;\n",
       "    }\n",
       "</style>\n",
       "<table border=\"1\" class=\"dataframe\">\n",
       "  <thead>\n",
       "    <tr style=\"text-align: right;\">\n",
       "      <th></th>\n",
       "      <th>precision</th>\n",
       "      <th>recall</th>\n",
       "      <th>f1-score</th>\n",
       "      <th>support</th>\n",
       "    </tr>\n",
       "  </thead>\n",
       "  <tbody>\n",
       "    <tr>\n",
       "      <th>0</th>\n",
       "      <td>0.930268</td>\n",
       "      <td>0.951411</td>\n",
       "      <td>0.940721</td>\n",
       "      <td>1276.000000</td>\n",
       "    </tr>\n",
       "    <tr>\n",
       "      <th>1</th>\n",
       "      <td>0.126761</td>\n",
       "      <td>0.090000</td>\n",
       "      <td>0.105263</td>\n",
       "      <td>100.000000</td>\n",
       "    </tr>\n",
       "    <tr>\n",
       "      <th>accuracy</th>\n",
       "      <td>0.888808</td>\n",
       "      <td>0.888808</td>\n",
       "      <td>0.888808</td>\n",
       "      <td>0.888808</td>\n",
       "    </tr>\n",
       "    <tr>\n",
       "      <th>macro avg</th>\n",
       "      <td>0.528514</td>\n",
       "      <td>0.520705</td>\n",
       "      <td>0.522992</td>\n",
       "      <td>1376.000000</td>\n",
       "    </tr>\n",
       "    <tr>\n",
       "      <th>weighted avg</th>\n",
       "      <td>0.871874</td>\n",
       "      <td>0.888808</td>\n",
       "      <td>0.880004</td>\n",
       "      <td>1376.000000</td>\n",
       "    </tr>\n",
       "  </tbody>\n",
       "</table>\n",
       "</div>\n",
       "      <button class=\"colab-df-convert\" onclick=\"convertToInteractive('df-2bdd1c5e-a1d3-4b41-902c-18bbd5927eab')\"\n",
       "              title=\"Convert this dataframe to an interactive table.\"\n",
       "              style=\"display:none;\">\n",
       "        \n",
       "  <svg xmlns=\"http://www.w3.org/2000/svg\" height=\"24px\"viewBox=\"0 0 24 24\"\n",
       "       width=\"24px\">\n",
       "    <path d=\"M0 0h24v24H0V0z\" fill=\"none\"/>\n",
       "    <path d=\"M18.56 5.44l.94 2.06.94-2.06 2.06-.94-2.06-.94-.94-2.06-.94 2.06-2.06.94zm-11 1L8.5 8.5l.94-2.06 2.06-.94-2.06-.94L8.5 2.5l-.94 2.06-2.06.94zm10 10l.94 2.06.94-2.06 2.06-.94-2.06-.94-.94-2.06-.94 2.06-2.06.94z\"/><path d=\"M17.41 7.96l-1.37-1.37c-.4-.4-.92-.59-1.43-.59-.52 0-1.04.2-1.43.59L10.3 9.45l-7.72 7.72c-.78.78-.78 2.05 0 2.83L4 21.41c.39.39.9.59 1.41.59.51 0 1.02-.2 1.41-.59l7.78-7.78 2.81-2.81c.8-.78.8-2.07 0-2.86zM5.41 20L4 18.59l7.72-7.72 1.47 1.35L5.41 20z\"/>\n",
       "  </svg>\n",
       "      </button>\n",
       "      \n",
       "  <style>\n",
       "    .colab-df-container {\n",
       "      display:flex;\n",
       "      flex-wrap:wrap;\n",
       "      gap: 12px;\n",
       "    }\n",
       "\n",
       "    .colab-df-convert {\n",
       "      background-color: #E8F0FE;\n",
       "      border: none;\n",
       "      border-radius: 50%;\n",
       "      cursor: pointer;\n",
       "      display: none;\n",
       "      fill: #1967D2;\n",
       "      height: 32px;\n",
       "      padding: 0 0 0 0;\n",
       "      width: 32px;\n",
       "    }\n",
       "\n",
       "    .colab-df-convert:hover {\n",
       "      background-color: #E2EBFA;\n",
       "      box-shadow: 0px 1px 2px rgba(60, 64, 67, 0.3), 0px 1px 3px 1px rgba(60, 64, 67, 0.15);\n",
       "      fill: #174EA6;\n",
       "    }\n",
       "\n",
       "    [theme=dark] .colab-df-convert {\n",
       "      background-color: #3B4455;\n",
       "      fill: #D2E3FC;\n",
       "    }\n",
       "\n",
       "    [theme=dark] .colab-df-convert:hover {\n",
       "      background-color: #434B5C;\n",
       "      box-shadow: 0px 1px 3px 1px rgba(0, 0, 0, 0.15);\n",
       "      filter: drop-shadow(0px 1px 2px rgba(0, 0, 0, 0.3));\n",
       "      fill: #FFFFFF;\n",
       "    }\n",
       "  </style>\n",
       "\n",
       "      <script>\n",
       "        const buttonEl =\n",
       "          document.querySelector('#df-2bdd1c5e-a1d3-4b41-902c-18bbd5927eab button.colab-df-convert');\n",
       "        buttonEl.style.display =\n",
       "          google.colab.kernel.accessAllowed ? 'block' : 'none';\n",
       "\n",
       "        async function convertToInteractive(key) {\n",
       "          const element = document.querySelector('#df-2bdd1c5e-a1d3-4b41-902c-18bbd5927eab');\n",
       "          const dataTable =\n",
       "            await google.colab.kernel.invokeFunction('convertToInteractive',\n",
       "                                                     [key], {});\n",
       "          if (!dataTable) return;\n",
       "\n",
       "          const docLinkHtml = 'Like what you see? Visit the ' +\n",
       "            '<a target=\"_blank\" href=https://colab.research.google.com/notebooks/data_table.ipynb>data table notebook</a>'\n",
       "            + ' to learn more about interactive tables.';\n",
       "          element.innerHTML = '';\n",
       "          dataTable['output_type'] = 'display_data';\n",
       "          await google.colab.output.renderOutput(dataTable, element);\n",
       "          const docLink = document.createElement('div');\n",
       "          docLink.innerHTML = docLinkHtml;\n",
       "          element.appendChild(docLink);\n",
       "        }\n",
       "      </script>\n",
       "    </div>\n",
       "  </div>\n",
       "  "
      ],
      "text/plain": [
       "              precision    recall  f1-score      support\n",
       "0              0.930268  0.951411  0.940721  1276.000000\n",
       "1              0.126761  0.090000  0.105263   100.000000\n",
       "accuracy       0.888808  0.888808  0.888808     0.888808\n",
       "macro avg      0.528514  0.520705  0.522992  1376.000000\n",
       "weighted avg   0.871874  0.888808  0.880004  1376.000000"
      ]
     },
     "execution_count": 43,
     "metadata": {},
     "output_type": "execute_result"
    }
   ],
   "source": [
    "# # ## get target values\n",
    "Y_train = df_train_balanced_and_aug[\"OUTPUT_LABEL\"].values\n",
    "Y_test = df_test[\"OUTPUT_LABEL\"].values\n",
    "X_train = df_train_balanced_and_aug[\"text2\"]\n",
    "X_test = df_test[\"text2\"]\n",
    "\n",
    "\n",
    "# transform training data into tf-idf vector - takes 1 minute to run\n",
    "vectorizer = feature_extraction.text.TfidfVectorizer(max_features=10000, ngram_range=(1,2))\n",
    "corpus = X_train # make sure using the right train data\n",
    "vectorizer.fit(corpus)\n",
    "X_train = vectorizer.transform(corpus)\n",
    "X_test = vectorizer.transform(X_test)\n",
    "dic_vocabulary = vectorizer.vocabulary_\n",
    "\n",
    "rf = RandomForestClassifier()\n",
    "rf.fit(X_train, Y_train)\n",
    "predicted = rf.predict(X_test)\n",
    "\n",
    "report = classification_report(Y_test, predicted, output_dict=True)\n",
    "df = pd.DataFrame(report).transpose()\n",
    "df.to_latex()\n",
    "df"
   ]
  },
  {
   "cell_type": "markdown",
   "id": "Ivjzks9L9PJk",
   "metadata": {
    "id": "Ivjzks9L9PJk"
   },
   "source": [
    "# Ablation 1: CNN + Global average pooling vs Max pooling"
   ]
  },
  {
   "cell_type": "code",
   "execution_count": 44,
   "id": "yD5_oZY09Pya",
   "metadata": {
    "colab": {
     "base_uri": "https://localhost:8080/"
    },
    "id": "yD5_oZY09Pya",
    "outputId": "480150ef-f003-4305-994f-d69f1621f2b0"
   },
   "outputs": [
    {
     "name": "stdout",
     "output_type": "stream",
     "text": [
      "Model: \"model_3\"\n",
      "_________________________________________________________________\n",
      " Layer (type)                Output Shape              Param #   \n",
      "=================================================================\n",
      " input_4 (InputLayer)        [(None, None)]            0         \n",
      "                                                                 \n",
      " embedding_3 (Embedding)     (None, None, 200)         4000400   \n",
      "                                                                 \n",
      " conv1d_9 (Conv1D)           (None, None, 128)         128128    \n",
      "                                                                 \n",
      " max_pooling1d_6 (MaxPooling  (None, None, 128)        0         \n",
      " 1D)                                                             \n",
      "                                                                 \n",
      " conv1d_10 (Conv1D)          (None, None, 128)         82048     \n",
      "                                                                 \n",
      " max_pooling1d_7 (MaxPooling  (None, None, 128)        0         \n",
      " 1D)                                                             \n",
      "                                                                 \n",
      " conv1d_11 (Conv1D)          (None, None, 128)         82048     \n",
      "                                                                 \n",
      " global_average_pooling1d_1   (None, 128)              0         \n",
      " (GlobalAveragePooling1D)                                        \n",
      "                                                                 \n",
      " dense_6 (Dense)             (None, 128)               16512     \n",
      "                                                                 \n",
      " dropout_3 (Dropout)         (None, 128)               0         \n",
      "                                                                 \n",
      " dense_7 (Dense)             (None, 2)                 258       \n",
      "                                                                 \n",
      "=================================================================\n",
      "Total params: 4,309,394\n",
      "Trainable params: 308,994\n",
      "Non-trainable params: 4,000,400\n",
      "_________________________________________________________________\n"
     ]
    }
   ],
   "source": [
    "# from keras.layers import GlobalAveragePooling1D\n",
    "embedding_layer = Embedding(\n",
    "    num_tokens,\n",
    "    embedding_dim,\n",
    "    embeddings_initializer=keras.initializers.Constant(embedding_matrix),\n",
    "    trainable=False,\n",
    ")\n",
    "\n",
    "int_sequences_input = keras.Input(shape=(None,), dtype=\"int64\")\n",
    "embedded_sequences = embedding_layer(int_sequences_input)\n",
    "x = layers.Conv1D(128, 5, activation=\"relu\")(embedded_sequences)\n",
    "\n",
    "x = layers.MaxPooling1D(5)(x)\n",
    "x = layers.Conv1D(128, 5, activation=\"relu\")(x)\n",
    "\n",
    "x = layers.MaxPooling1D(5)(x)\n",
    "x = layers.Conv1D(128, 5, activation=\"relu\")(x)\n",
    "\n",
    "x = layers.GlobalAveragePooling1D()(x)\n",
    "x = layers.Dense(128, activation=\"relu\")(x)\n",
    "x = layers.Dropout(0.5)(x)\n",
    "preds = layers.Dense(2, activation=\"softmax\")(x)\n",
    "model = keras.Model(int_sequences_input, preds)\n",
    "model.summary()"
   ]
  },
  {
   "cell_type": "code",
   "execution_count": 46,
   "id": "rP_LCBvh9TGn",
   "metadata": {
    "colab": {
     "base_uri": "https://localhost:8080/",
     "height": 790
    },
    "id": "rP_LCBvh9TGn",
    "outputId": "03189b17-dc71-4d6e-a6ea-af59829364ba"
   },
   "outputs": [
    {
     "name": "stderr",
     "output_type": "stream",
     "text": [
      "WARNING:absl:`lr` is deprecated in Keras optimizer, please use `learning_rate` or use the legacy optimizer, e.g.,tf.keras.optimizers.legacy.Adam.\n"
     ]
    },
    {
     "name": "stdout",
     "output_type": "stream",
     "text": [
      "Epoch 1/15\n",
      "32/32 [==============================] - 2s 20ms/step - loss: 0.0367 - acc: 0.9865 - val_loss: 1.1361 - val_acc: 0.7267\n",
      "Epoch 2/15\n",
      "32/32 [==============================] - 0s 12ms/step - loss: 0.0107 - acc: 0.9956 - val_loss: 1.5195 - val_acc: 0.6926\n",
      "Epoch 3/15\n",
      "32/32 [==============================] - 0s 12ms/step - loss: 0.0181 - acc: 0.9932 - val_loss: 0.9796 - val_acc: 0.7762\n",
      "Epoch 4/15\n",
      "32/32 [==============================] - 0s 14ms/step - loss: 0.0133 - acc: 0.9973 - val_loss: 1.8485 - val_acc: 0.6221\n",
      "Epoch 5/15\n",
      "32/32 [==============================] - 0s 13ms/step - loss: 0.0171 - acc: 0.9954 - val_loss: 0.7028 - val_acc: 0.8314\n",
      "Epoch 6/15\n",
      "32/32 [==============================] - 0s 14ms/step - loss: 0.0146 - acc: 0.9956 - val_loss: 1.4374 - val_acc: 0.6890\n",
      "Epoch 7/15\n",
      "32/32 [==============================] - 0s 14ms/step - loss: 0.0167 - acc: 0.9951 - val_loss: 1.1182 - val_acc: 0.7420\n",
      "Epoch 8/15\n",
      "32/32 [==============================] - 0s 14ms/step - loss: 0.0197 - acc: 0.9941 - val_loss: 1.0882 - val_acc: 0.7333\n",
      "Epoch 9/15\n",
      "32/32 [==============================] - 0s 14ms/step - loss: 0.0134 - acc: 0.9946 - val_loss: 1.4508 - val_acc: 0.6773\n",
      "Epoch 10/15\n",
      "32/32 [==============================] - 0s 13ms/step - loss: 0.0078 - acc: 0.9973 - val_loss: 1.5138 - val_acc: 0.6897\n",
      "Epoch 11/15\n",
      "32/32 [==============================] - 1s 17ms/step - loss: 0.0162 - acc: 0.9951 - val_loss: 0.8853 - val_acc: 0.8343\n",
      "Epoch 12/15\n",
      "32/32 [==============================] - 1s 22ms/step - loss: 0.0260 - acc: 0.9922 - val_loss: 1.0843 - val_acc: 0.7231\n",
      "Epoch 13/15\n",
      "32/32 [==============================] - 0s 15ms/step - loss: 0.0180 - acc: 0.9924 - val_loss: 1.1655 - val_acc: 0.7660\n",
      "Epoch 14/15\n",
      "32/32 [==============================] - 0s 15ms/step - loss: 0.0146 - acc: 0.9941 - val_loss: 1.0393 - val_acc: 0.7725\n",
      "Epoch 15/15\n",
      "32/32 [==============================] - 0s 15ms/step - loss: 0.0091 - acc: 0.9971 - val_loss: 1.9878 - val_acc: 0.6352\n",
      "43/43 [==============================] - 0s 3ms/step\n"
     ]
    },
    {
     "data": {
      "text/html": [
       "\n",
       "  <div id=\"df-d4cc2cff-667b-48dc-a672-faf524fe8afa\">\n",
       "    <div class=\"colab-df-container\">\n",
       "      <div>\n",
       "<style scoped>\n",
       "    .dataframe tbody tr th:only-of-type {\n",
       "        vertical-align: middle;\n",
       "    }\n",
       "\n",
       "    .dataframe tbody tr th {\n",
       "        vertical-align: top;\n",
       "    }\n",
       "\n",
       "    .dataframe thead th {\n",
       "        text-align: right;\n",
       "    }\n",
       "</style>\n",
       "<table border=\"1\" class=\"dataframe\">\n",
       "  <thead>\n",
       "    <tr style=\"text-align: right;\">\n",
       "      <th></th>\n",
       "      <th>precision</th>\n",
       "      <th>recall</th>\n",
       "      <th>f1-score</th>\n",
       "      <th>support</th>\n",
       "    </tr>\n",
       "  </thead>\n",
       "  <tbody>\n",
       "    <tr>\n",
       "      <th>0</th>\n",
       "      <td>0.930958</td>\n",
       "      <td>0.655172</td>\n",
       "      <td>0.769089</td>\n",
       "      <td>1276.000000</td>\n",
       "    </tr>\n",
       "    <tr>\n",
       "      <th>1</th>\n",
       "      <td>0.079498</td>\n",
       "      <td>0.380000</td>\n",
       "      <td>0.131488</td>\n",
       "      <td>100.000000</td>\n",
       "    </tr>\n",
       "    <tr>\n",
       "      <th>accuracy</th>\n",
       "      <td>0.635174</td>\n",
       "      <td>0.635174</td>\n",
       "      <td>0.635174</td>\n",
       "      <td>0.635174</td>\n",
       "    </tr>\n",
       "    <tr>\n",
       "      <th>macro avg</th>\n",
       "      <td>0.505228</td>\n",
       "      <td>0.517586</td>\n",
       "      <td>0.450289</td>\n",
       "      <td>1376.000000</td>\n",
       "    </tr>\n",
       "    <tr>\n",
       "      <th>weighted avg</th>\n",
       "      <td>0.869078</td>\n",
       "      <td>0.635174</td>\n",
       "      <td>0.722752</td>\n",
       "      <td>1376.000000</td>\n",
       "    </tr>\n",
       "  </tbody>\n",
       "</table>\n",
       "</div>\n",
       "      <button class=\"colab-df-convert\" onclick=\"convertToInteractive('df-d4cc2cff-667b-48dc-a672-faf524fe8afa')\"\n",
       "              title=\"Convert this dataframe to an interactive table.\"\n",
       "              style=\"display:none;\">\n",
       "        \n",
       "  <svg xmlns=\"http://www.w3.org/2000/svg\" height=\"24px\"viewBox=\"0 0 24 24\"\n",
       "       width=\"24px\">\n",
       "    <path d=\"M0 0h24v24H0V0z\" fill=\"none\"/>\n",
       "    <path d=\"M18.56 5.44l.94 2.06.94-2.06 2.06-.94-2.06-.94-.94-2.06-.94 2.06-2.06.94zm-11 1L8.5 8.5l.94-2.06 2.06-.94-2.06-.94L8.5 2.5l-.94 2.06-2.06.94zm10 10l.94 2.06.94-2.06 2.06-.94-2.06-.94-.94-2.06-.94 2.06-2.06.94z\"/><path d=\"M17.41 7.96l-1.37-1.37c-.4-.4-.92-.59-1.43-.59-.52 0-1.04.2-1.43.59L10.3 9.45l-7.72 7.72c-.78.78-.78 2.05 0 2.83L4 21.41c.39.39.9.59 1.41.59.51 0 1.02-.2 1.41-.59l7.78-7.78 2.81-2.81c.8-.78.8-2.07 0-2.86zM5.41 20L4 18.59l7.72-7.72 1.47 1.35L5.41 20z\"/>\n",
       "  </svg>\n",
       "      </button>\n",
       "      \n",
       "  <style>\n",
       "    .colab-df-container {\n",
       "      display:flex;\n",
       "      flex-wrap:wrap;\n",
       "      gap: 12px;\n",
       "    }\n",
       "\n",
       "    .colab-df-convert {\n",
       "      background-color: #E8F0FE;\n",
       "      border: none;\n",
       "      border-radius: 50%;\n",
       "      cursor: pointer;\n",
       "      display: none;\n",
       "      fill: #1967D2;\n",
       "      height: 32px;\n",
       "      padding: 0 0 0 0;\n",
       "      width: 32px;\n",
       "    }\n",
       "\n",
       "    .colab-df-convert:hover {\n",
       "      background-color: #E2EBFA;\n",
       "      box-shadow: 0px 1px 2px rgba(60, 64, 67, 0.3), 0px 1px 3px 1px rgba(60, 64, 67, 0.15);\n",
       "      fill: #174EA6;\n",
       "    }\n",
       "\n",
       "    [theme=dark] .colab-df-convert {\n",
       "      background-color: #3B4455;\n",
       "      fill: #D2E3FC;\n",
       "    }\n",
       "\n",
       "    [theme=dark] .colab-df-convert:hover {\n",
       "      background-color: #434B5C;\n",
       "      box-shadow: 0px 1px 3px 1px rgba(0, 0, 0, 0.15);\n",
       "      filter: drop-shadow(0px 1px 2px rgba(0, 0, 0, 0.3));\n",
       "      fill: #FFFFFF;\n",
       "    }\n",
       "  </style>\n",
       "\n",
       "      <script>\n",
       "        const buttonEl =\n",
       "          document.querySelector('#df-d4cc2cff-667b-48dc-a672-faf524fe8afa button.colab-df-convert');\n",
       "        buttonEl.style.display =\n",
       "          google.colab.kernel.accessAllowed ? 'block' : 'none';\n",
       "\n",
       "        async function convertToInteractive(key) {\n",
       "          const element = document.querySelector('#df-d4cc2cff-667b-48dc-a672-faf524fe8afa');\n",
       "          const dataTable =\n",
       "            await google.colab.kernel.invokeFunction('convertToInteractive',\n",
       "                                                     [key], {});\n",
       "          if (!dataTable) return;\n",
       "\n",
       "          const docLinkHtml = 'Like what you see? Visit the ' +\n",
       "            '<a target=\"_blank\" href=https://colab.research.google.com/notebooks/data_table.ipynb>data table notebook</a>'\n",
       "            + ' to learn more about interactive tables.';\n",
       "          element.innerHTML = '';\n",
       "          dataTable['output_type'] = 'display_data';\n",
       "          await google.colab.output.renderOutput(dataTable, element);\n",
       "          const docLink = document.createElement('div');\n",
       "          docLink.innerHTML = docLinkHtml;\n",
       "          element.appendChild(docLink);\n",
       "        }\n",
       "      </script>\n",
       "    </div>\n",
       "  </div>\n",
       "  "
      ],
      "text/plain": [
       "              precision    recall  f1-score      support\n",
       "0              0.930958  0.655172  0.769089  1276.000000\n",
       "1              0.079498  0.380000  0.131488   100.000000\n",
       "accuracy       0.635174  0.635174  0.635174     0.635174\n",
       "macro avg      0.505228  0.517586  0.450289  1376.000000\n",
       "weighted avg   0.869078  0.635174  0.722752  1376.000000"
      ]
     },
     "execution_count": 46,
     "metadata": {},
     "output_type": "execute_result"
    }
   ],
   "source": [
    "x_train, y_train, x_val, y_val, voc,  word_index = create_train_and_val_sets(df_train_balanced_and_aug, df_test)\n",
    "\n",
    "model.compile(\n",
    "    loss=\"sparse_categorical_crossentropy\", optimizer=Adam(lr=0.0001), metrics=[\"acc\"]\n",
    ")\n",
    "model.fit(x_train, y_train, batch_size=128, epochs=15, validation_data=(x_val, y_val))\n",
    "\n",
    "evaluate_model(model, x_val, y_val)"
   ]
  },
  {
   "cell_type": "markdown",
   "id": "573b7234",
   "metadata": {
    "id": "573b7234"
   },
   "source": [
    "# Ablation 2: Comparing GloVe to pre-trained Word2Vec"
   ]
  },
  {
   "cell_type": "code",
   "execution_count": 47,
   "id": "adebe811",
   "metadata": {
    "id": "adebe811"
   },
   "outputs": [],
   "source": [
    "#loading glove model\n",
    "embeddings_dict = {}\n",
    "\n",
    "with open(glovepath, 'r', encoding=\"utf-8\") as f:\n",
    "    for line in f:\n",
    "        values = line.split()\n",
    "        word = values[0]\n",
    "        vector = np.asarray(values[1:], \"float32\")\n",
    "        embeddings_dict[word] = vector\n"
   ]
  },
  {
   "cell_type": "code",
   "execution_count": 48,
   "id": "524d1317",
   "metadata": {
    "colab": {
     "base_uri": "https://localhost:8080/"
    },
    "id": "524d1317",
    "outputId": "20023ff6-e310-4cf9-9128-fb432ba839f5"
   },
   "outputs": [
    {
     "name": "stdout",
     "output_type": "stream",
     "text": [
      "Converted 17296 words (2704 misses)\n"
     ]
    }
   ],
   "source": [
    "num_tokens = len(voc) + 2\n",
    "embedding_dim = 300\n",
    "hits = 0\n",
    "misses = 0\n",
    "\n",
    "# Prepare embedding matrix\n",
    "embedding_matrix = np.zeros((num_tokens, embedding_dim))\n",
    "for word, i in word_index.items():\n",
    "    if word in embeddings_dict:\n",
    "        embedding_matrix[i] =  embeddings_dict[word]\n",
    "        hits += 1\n",
    "    else:\n",
    "        misses += 1\n",
    "print(\"Converted %d words (%d misses)\" % (hits, misses))"
   ]
  },
  {
   "cell_type": "code",
   "execution_count": 49,
   "id": "fa28c164",
   "metadata": {
    "id": "fa28c164"
   },
   "outputs": [],
   "source": [
    "embedding_layer = Embedding(\n",
    "      num_tokens,\n",
    "    embedding_dim,\n",
    "    embeddings_initializer=keras.initializers.Constant(embedding_matrix),\n",
    "    trainable=False,)\n",
    "  \n",
    "int_sequences_input = keras.Input(shape=(None,), dtype=\"int64\")\n",
    "embedded_sequences = embedding_layer(int_sequences_input)\n",
    "x = layers.Conv1D(128, 5, activation=\"relu\")(embedded_sequences)\n",
    "x = layers.MaxPooling1D(5)(x)\n",
    "x = layers.Conv1D(128, 5, activation=\"relu\")(x)\n",
    "x = layers.MaxPooling1D(5)(x)\n",
    "x = layers.Conv1D(128, 5, activation=\"relu\")(x)\n",
    "x = layers.GlobalMaxPooling1D()(x)\n",
    "x = layers.Dense(128, activation=\"relu\")(x)\n",
    "x = layers.Dropout(0.5)(x)\n",
    "preds = layers.Dense(2, activation=\"softmax\")(x)\n",
    "model = keras.Model(int_sequences_input, preds)"
   ]
  },
  {
   "cell_type": "code",
   "execution_count": 50,
   "id": "Q-f7Ow_Ag8f5",
   "metadata": {
    "colab": {
     "base_uri": "https://localhost:8080/",
     "height": 790
    },
    "id": "Q-f7Ow_Ag8f5",
    "outputId": "6de9f846-95b1-4e1c-9273-1bb0d00cd26a"
   },
   "outputs": [
    {
     "name": "stderr",
     "output_type": "stream",
     "text": [
      "WARNING:absl:`lr` is deprecated in Keras optimizer, please use `learning_rate` or use the legacy optimizer, e.g.,tf.keras.optimizers.legacy.Adam.\n"
     ]
    },
    {
     "name": "stdout",
     "output_type": "stream",
     "text": [
      "Epoch 1/15\n",
      "32/32 [==============================] - 5s 30ms/step - loss: 0.5283 - acc: 0.7189 - val_loss: 0.5742 - val_acc: 0.9266\n",
      "Epoch 2/15\n",
      "32/32 [==============================] - 0s 14ms/step - loss: 0.4864 - acc: 0.7432 - val_loss: 0.4799 - val_acc: 0.9273\n",
      "Epoch 3/15\n",
      "32/32 [==============================] - 0s 14ms/step - loss: 0.4727 - acc: 0.7466 - val_loss: 0.5706 - val_acc: 0.9251\n",
      "Epoch 4/15\n",
      "32/32 [==============================] - 0s 15ms/step - loss: 0.4552 - acc: 0.7500 - val_loss: 0.5341 - val_acc: 0.8372\n",
      "Epoch 5/15\n",
      "32/32 [==============================] - 0s 14ms/step - loss: 0.3997 - acc: 0.8082 - val_loss: 0.4861 - val_acc: 0.7907\n",
      "Epoch 6/15\n",
      "32/32 [==============================] - 0s 14ms/step - loss: 0.2223 - acc: 0.9161 - val_loss: 0.7429 - val_acc: 0.6047\n",
      "Epoch 7/15\n",
      "32/32 [==============================] - 0s 14ms/step - loss: 0.0995 - acc: 0.9667 - val_loss: 0.9181 - val_acc: 0.5763\n",
      "Epoch 8/15\n",
      "32/32 [==============================] - 0s 14ms/step - loss: 0.0475 - acc: 0.9875 - val_loss: 0.7719 - val_acc: 0.6977\n",
      "Epoch 9/15\n",
      "32/32 [==============================] - 0s 14ms/step - loss: 0.0165 - acc: 0.9944 - val_loss: 0.6752 - val_acc: 0.7515\n",
      "Epoch 10/15\n",
      "32/32 [==============================] - 0s 14ms/step - loss: 0.0052 - acc: 0.9993 - val_loss: 0.8004 - val_acc: 0.7173\n",
      "Epoch 11/15\n",
      "32/32 [==============================] - 0s 14ms/step - loss: 0.0022 - acc: 0.9998 - val_loss: 0.8201 - val_acc: 0.7406\n",
      "Epoch 12/15\n",
      "32/32 [==============================] - 1s 18ms/step - loss: 0.0010 - acc: 1.0000 - val_loss: 0.7889 - val_acc: 0.7587\n",
      "Epoch 13/15\n",
      "32/32 [==============================] - 1s 16ms/step - loss: 5.7956e-04 - acc: 1.0000 - val_loss: 0.9145 - val_acc: 0.7224\n",
      "Epoch 14/15\n",
      "32/32 [==============================] - 1s 16ms/step - loss: 6.7464e-04 - acc: 1.0000 - val_loss: 0.8683 - val_acc: 0.7398\n",
      "Epoch 15/15\n",
      "32/32 [==============================] - 1s 16ms/step - loss: 4.1506e-04 - acc: 1.0000 - val_loss: 0.9003 - val_acc: 0.7326\n",
      "43/43 [==============================] - 0s 3ms/step\n"
     ]
    },
    {
     "data": {
      "text/html": [
       "\n",
       "  <div id=\"df-3c6c4e9e-8d51-4537-bcfb-e6dd6a5925f5\">\n",
       "    <div class=\"colab-df-container\">\n",
       "      <div>\n",
       "<style scoped>\n",
       "    .dataframe tbody tr th:only-of-type {\n",
       "        vertical-align: middle;\n",
       "    }\n",
       "\n",
       "    .dataframe tbody tr th {\n",
       "        vertical-align: top;\n",
       "    }\n",
       "\n",
       "    .dataframe thead th {\n",
       "        text-align: right;\n",
       "    }\n",
       "</style>\n",
       "<table border=\"1\" class=\"dataframe\">\n",
       "  <thead>\n",
       "    <tr style=\"text-align: right;\">\n",
       "      <th></th>\n",
       "      <th>precision</th>\n",
       "      <th>recall</th>\n",
       "      <th>f1-score</th>\n",
       "      <th>support</th>\n",
       "    </tr>\n",
       "  </thead>\n",
       "  <tbody>\n",
       "    <tr>\n",
       "      <th>0</th>\n",
       "      <td>0.927495</td>\n",
       "      <td>0.771944</td>\n",
       "      <td>0.842601</td>\n",
       "      <td>1276.000000</td>\n",
       "    </tr>\n",
       "    <tr>\n",
       "      <th>1</th>\n",
       "      <td>0.073248</td>\n",
       "      <td>0.230000</td>\n",
       "      <td>0.111111</td>\n",
       "      <td>100.000000</td>\n",
       "    </tr>\n",
       "    <tr>\n",
       "      <th>accuracy</th>\n",
       "      <td>0.732558</td>\n",
       "      <td>0.732558</td>\n",
       "      <td>0.732558</td>\n",
       "      <td>0.732558</td>\n",
       "    </tr>\n",
       "    <tr>\n",
       "      <th>macro avg</th>\n",
       "      <td>0.500372</td>\n",
       "      <td>0.500972</td>\n",
       "      <td>0.476856</td>\n",
       "      <td>1376.000000</td>\n",
       "    </tr>\n",
       "    <tr>\n",
       "      <th>weighted avg</th>\n",
       "      <td>0.865413</td>\n",
       "      <td>0.732558</td>\n",
       "      <td>0.789440</td>\n",
       "      <td>1376.000000</td>\n",
       "    </tr>\n",
       "  </tbody>\n",
       "</table>\n",
       "</div>\n",
       "      <button class=\"colab-df-convert\" onclick=\"convertToInteractive('df-3c6c4e9e-8d51-4537-bcfb-e6dd6a5925f5')\"\n",
       "              title=\"Convert this dataframe to an interactive table.\"\n",
       "              style=\"display:none;\">\n",
       "        \n",
       "  <svg xmlns=\"http://www.w3.org/2000/svg\" height=\"24px\"viewBox=\"0 0 24 24\"\n",
       "       width=\"24px\">\n",
       "    <path d=\"M0 0h24v24H0V0z\" fill=\"none\"/>\n",
       "    <path d=\"M18.56 5.44l.94 2.06.94-2.06 2.06-.94-2.06-.94-.94-2.06-.94 2.06-2.06.94zm-11 1L8.5 8.5l.94-2.06 2.06-.94-2.06-.94L8.5 2.5l-.94 2.06-2.06.94zm10 10l.94 2.06.94-2.06 2.06-.94-2.06-.94-.94-2.06-.94 2.06-2.06.94z\"/><path d=\"M17.41 7.96l-1.37-1.37c-.4-.4-.92-.59-1.43-.59-.52 0-1.04.2-1.43.59L10.3 9.45l-7.72 7.72c-.78.78-.78 2.05 0 2.83L4 21.41c.39.39.9.59 1.41.59.51 0 1.02-.2 1.41-.59l7.78-7.78 2.81-2.81c.8-.78.8-2.07 0-2.86zM5.41 20L4 18.59l7.72-7.72 1.47 1.35L5.41 20z\"/>\n",
       "  </svg>\n",
       "      </button>\n",
       "      \n",
       "  <style>\n",
       "    .colab-df-container {\n",
       "      display:flex;\n",
       "      flex-wrap:wrap;\n",
       "      gap: 12px;\n",
       "    }\n",
       "\n",
       "    .colab-df-convert {\n",
       "      background-color: #E8F0FE;\n",
       "      border: none;\n",
       "      border-radius: 50%;\n",
       "      cursor: pointer;\n",
       "      display: none;\n",
       "      fill: #1967D2;\n",
       "      height: 32px;\n",
       "      padding: 0 0 0 0;\n",
       "      width: 32px;\n",
       "    }\n",
       "\n",
       "    .colab-df-convert:hover {\n",
       "      background-color: #E2EBFA;\n",
       "      box-shadow: 0px 1px 2px rgba(60, 64, 67, 0.3), 0px 1px 3px 1px rgba(60, 64, 67, 0.15);\n",
       "      fill: #174EA6;\n",
       "    }\n",
       "\n",
       "    [theme=dark] .colab-df-convert {\n",
       "      background-color: #3B4455;\n",
       "      fill: #D2E3FC;\n",
       "    }\n",
       "\n",
       "    [theme=dark] .colab-df-convert:hover {\n",
       "      background-color: #434B5C;\n",
       "      box-shadow: 0px 1px 3px 1px rgba(0, 0, 0, 0.15);\n",
       "      filter: drop-shadow(0px 1px 2px rgba(0, 0, 0, 0.3));\n",
       "      fill: #FFFFFF;\n",
       "    }\n",
       "  </style>\n",
       "\n",
       "      <script>\n",
       "        const buttonEl =\n",
       "          document.querySelector('#df-3c6c4e9e-8d51-4537-bcfb-e6dd6a5925f5 button.colab-df-convert');\n",
       "        buttonEl.style.display =\n",
       "          google.colab.kernel.accessAllowed ? 'block' : 'none';\n",
       "\n",
       "        async function convertToInteractive(key) {\n",
       "          const element = document.querySelector('#df-3c6c4e9e-8d51-4537-bcfb-e6dd6a5925f5');\n",
       "          const dataTable =\n",
       "            await google.colab.kernel.invokeFunction('convertToInteractive',\n",
       "                                                     [key], {});\n",
       "          if (!dataTable) return;\n",
       "\n",
       "          const docLinkHtml = 'Like what you see? Visit the ' +\n",
       "            '<a target=\"_blank\" href=https://colab.research.google.com/notebooks/data_table.ipynb>data table notebook</a>'\n",
       "            + ' to learn more about interactive tables.';\n",
       "          element.innerHTML = '';\n",
       "          dataTable['output_type'] = 'display_data';\n",
       "          await google.colab.output.renderOutput(dataTable, element);\n",
       "          const docLink = document.createElement('div');\n",
       "          docLink.innerHTML = docLinkHtml;\n",
       "          element.appendChild(docLink);\n",
       "        }\n",
       "      </script>\n",
       "    </div>\n",
       "  </div>\n",
       "  "
      ],
      "text/plain": [
       "              precision    recall  f1-score      support\n",
       "0              0.927495  0.771944  0.842601  1276.000000\n",
       "1              0.073248  0.230000  0.111111   100.000000\n",
       "accuracy       0.732558  0.732558  0.732558     0.732558\n",
       "macro avg      0.500372  0.500972  0.476856  1376.000000\n",
       "weighted avg   0.865413  0.732558  0.789440  1376.000000"
      ]
     },
     "execution_count": 50,
     "metadata": {},
     "output_type": "execute_result"
    }
   ],
   "source": [
    "model.compile(\n",
    "    loss=\"sparse_categorical_crossentropy\", optimizer=Adam(lr=0.0001), metrics=[\"acc\"]\n",
    ")\n",
    "model.fit(x_train, y_train, batch_size=128, epochs=15, validation_data=(x_val, y_val))\n",
    "\n",
    "evaluate_model(model, x_val, y_val)"
   ]
  },
  {
   "cell_type": "markdown",
   "id": "3618b86b",
   "metadata": {},
   "source": [
    "# Referneces\n",
    "[1] Xiong Liu, Yu Chen, Jay Bae, Hu Li, Joseph Johnston, and Todd Sanger. 2019. Predicting heart failure read-mission from clinical notes using deep learning.\n",
    "[2] Franc ̧ ois Chollet. 2020. Using pre-trained word embeddings. \n",
    "[3] Johnson AE, Pollard TJ, Shen L, Lehman LW, Feng M, Ghassemi M, and Moody B. 2016b. MIMIC-III, a freely accessible critical care database - Scientific Data — nature.com.\n"
   ]
  }
 ],
 "metadata": {
  "accelerator": "GPU",
  "colab": {
   "collapsed_sections": [
    "BTWCN0t-euH6"
   ],
   "gpuType": "T4",
   "provenance": [],
   "toc_visible": true
  },
  "gpuClass": "standard",
  "kernelspec": {
   "display_name": "Python 3 (ipykernel)",
   "language": "python",
   "name": "python3"
  },
  "language_info": {
   "codemirror_mode": {
    "name": "ipython",
    "version": 3
   },
   "file_extension": ".py",
   "mimetype": "text/x-python",
   "name": "python",
   "nbconvert_exporter": "python",
   "pygments_lexer": "ipython3",
   "version": "3.9.12"
  }
 },
 "nbformat": 4,
 "nbformat_minor": 5
}
